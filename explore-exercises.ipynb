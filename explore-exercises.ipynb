{
 "cells": [
  {
   "cell_type": "markdown",
   "id": "65bfbfc3",
   "metadata": {},
   "source": [
    "# Explore exercises\n",
    "\n",
    "Ask at least 5 questions about the data, keeping in mind that your target variable is logerror. e.g. Is logerror significantly different for properties in LA County vs Orange County vs Ventura County?\n",
    "\n",
    "Answer those questions through a mix of statistical tests and visualizations."
   ]
  },
  {
   "cell_type": "code",
   "execution_count": 1,
   "id": "c920af54",
   "metadata": {},
   "outputs": [
    {
     "data": {
      "application/javascript": [
       "IPython.notebook.set_autosave_interval(0)"
      ]
     },
     "metadata": {},
     "output_type": "display_data"
    },
    {
     "name": "stdout",
     "output_type": "stream",
     "text": [
      "Autosave disabled\n"
     ]
    }
   ],
   "source": [
    "#Disable autosave\n",
    "%autosave 0"
   ]
  },
  {
   "cell_type": "code",
   "execution_count": 2,
   "id": "8a0545f7",
   "metadata": {},
   "outputs": [],
   "source": [
    "#Import dependencies\n",
    "import pandas as pd\n",
    "import matplotlib.pyplot as plt\n",
    "import seaborn as sns\n",
    "from scipy import stats"
   ]
  },
  {
   "cell_type": "code",
   "execution_count": 3,
   "id": "a0b42835",
   "metadata": {},
   "outputs": [
    {
     "data": {
      "text/html": [
       "<div>\n",
       "<style scoped>\n",
       "    .dataframe tbody tr th:only-of-type {\n",
       "        vertical-align: middle;\n",
       "    }\n",
       "\n",
       "    .dataframe tbody tr th {\n",
       "        vertical-align: top;\n",
       "    }\n",
       "\n",
       "    .dataframe thead th {\n",
       "        text-align: right;\n",
       "    }\n",
       "</style>\n",
       "<table border=\"1\" class=\"dataframe\">\n",
       "  <thead>\n",
       "    <tr style=\"text-align: right;\">\n",
       "      <th></th>\n",
       "      <th>id</th>\n",
       "      <th>parcelid</th>\n",
       "      <th>bathroomcnt</th>\n",
       "      <th>bedroomcnt</th>\n",
       "      <th>calculatedbathnbr</th>\n",
       "      <th>calculatedfinishedsquarefeet</th>\n",
       "      <th>finishedsquarefeet12</th>\n",
       "      <th>fips</th>\n",
       "      <th>fullbathcnt</th>\n",
       "      <th>latitude</th>\n",
       "      <th>...</th>\n",
       "      <th>yearbuilt</th>\n",
       "      <th>structuretaxvaluedollarcnt</th>\n",
       "      <th>taxvaluedollarcnt</th>\n",
       "      <th>assessmentyear</th>\n",
       "      <th>landtaxvaluedollarcnt</th>\n",
       "      <th>taxamount</th>\n",
       "      <th>censustractandblock</th>\n",
       "      <th>logerror</th>\n",
       "      <th>transactiondate</th>\n",
       "      <th>propertylandusedesc</th>\n",
       "    </tr>\n",
       "  </thead>\n",
       "  <tbody>\n",
       "    <tr>\n",
       "      <th>0</th>\n",
       "      <td>1727539</td>\n",
       "      <td>14297519</td>\n",
       "      <td>3.5</td>\n",
       "      <td>4.0</td>\n",
       "      <td>3.5</td>\n",
       "      <td>3100.0</td>\n",
       "      <td>3100.0</td>\n",
       "      <td>6059.0</td>\n",
       "      <td>3.0</td>\n",
       "      <td>33634931.0</td>\n",
       "      <td>...</td>\n",
       "      <td>1998.0</td>\n",
       "      <td>485713.0</td>\n",
       "      <td>1023282.0</td>\n",
       "      <td>2016.0</td>\n",
       "      <td>537569.0</td>\n",
       "      <td>11013.72</td>\n",
       "      <td>6.059063e+13</td>\n",
       "      <td>0.025595</td>\n",
       "      <td>2017-01-01</td>\n",
       "      <td>Single Family Residential</td>\n",
       "    </tr>\n",
       "    <tr>\n",
       "      <th>1</th>\n",
       "      <td>1387261</td>\n",
       "      <td>17052889</td>\n",
       "      <td>1.0</td>\n",
       "      <td>2.0</td>\n",
       "      <td>1.0</td>\n",
       "      <td>1465.0</td>\n",
       "      <td>1465.0</td>\n",
       "      <td>6111.0</td>\n",
       "      <td>1.0</td>\n",
       "      <td>34449266.0</td>\n",
       "      <td>...</td>\n",
       "      <td>1967.0</td>\n",
       "      <td>88000.0</td>\n",
       "      <td>464000.0</td>\n",
       "      <td>2016.0</td>\n",
       "      <td>376000.0</td>\n",
       "      <td>5672.48</td>\n",
       "      <td>6.111001e+13</td>\n",
       "      <td>0.055619</td>\n",
       "      <td>2017-01-01</td>\n",
       "      <td>Single Family Residential</td>\n",
       "    </tr>\n",
       "    <tr>\n",
       "      <th>2</th>\n",
       "      <td>11677</td>\n",
       "      <td>14186244</td>\n",
       "      <td>2.0</td>\n",
       "      <td>3.0</td>\n",
       "      <td>2.0</td>\n",
       "      <td>1243.0</td>\n",
       "      <td>1243.0</td>\n",
       "      <td>6059.0</td>\n",
       "      <td>2.0</td>\n",
       "      <td>33886168.0</td>\n",
       "      <td>...</td>\n",
       "      <td>1962.0</td>\n",
       "      <td>85289.0</td>\n",
       "      <td>564778.0</td>\n",
       "      <td>2016.0</td>\n",
       "      <td>479489.0</td>\n",
       "      <td>6488.30</td>\n",
       "      <td>6.059022e+13</td>\n",
       "      <td>0.005383</td>\n",
       "      <td>2017-01-01</td>\n",
       "      <td>Single Family Residential</td>\n",
       "    </tr>\n",
       "    <tr>\n",
       "      <th>3</th>\n",
       "      <td>2288172</td>\n",
       "      <td>12177905</td>\n",
       "      <td>3.0</td>\n",
       "      <td>4.0</td>\n",
       "      <td>3.0</td>\n",
       "      <td>2376.0</td>\n",
       "      <td>2376.0</td>\n",
       "      <td>6037.0</td>\n",
       "      <td>3.0</td>\n",
       "      <td>34245180.0</td>\n",
       "      <td>...</td>\n",
       "      <td>1970.0</td>\n",
       "      <td>108918.0</td>\n",
       "      <td>145143.0</td>\n",
       "      <td>2016.0</td>\n",
       "      <td>36225.0</td>\n",
       "      <td>1777.51</td>\n",
       "      <td>6.037300e+13</td>\n",
       "      <td>-0.103410</td>\n",
       "      <td>2017-01-01</td>\n",
       "      <td>Single Family Residential</td>\n",
       "    </tr>\n",
       "    <tr>\n",
       "      <th>4</th>\n",
       "      <td>781532</td>\n",
       "      <td>12095076</td>\n",
       "      <td>3.0</td>\n",
       "      <td>4.0</td>\n",
       "      <td>3.0</td>\n",
       "      <td>2962.0</td>\n",
       "      <td>2962.0</td>\n",
       "      <td>6037.0</td>\n",
       "      <td>3.0</td>\n",
       "      <td>34145202.0</td>\n",
       "      <td>...</td>\n",
       "      <td>1950.0</td>\n",
       "      <td>276684.0</td>\n",
       "      <td>773303.0</td>\n",
       "      <td>2016.0</td>\n",
       "      <td>496619.0</td>\n",
       "      <td>9516.26</td>\n",
       "      <td>6.037461e+13</td>\n",
       "      <td>-0.001011</td>\n",
       "      <td>2017-01-01</td>\n",
       "      <td>Single Family Residential</td>\n",
       "    </tr>\n",
       "  </tbody>\n",
       "</table>\n",
       "<p>5 rows × 29 columns</p>\n",
       "</div>"
      ],
      "text/plain": [
       "        id  parcelid  bathroomcnt  bedroomcnt  calculatedbathnbr  \\\n",
       "0  1727539  14297519          3.5         4.0                3.5   \n",
       "1  1387261  17052889          1.0         2.0                1.0   \n",
       "2    11677  14186244          2.0         3.0                2.0   \n",
       "3  2288172  12177905          3.0         4.0                3.0   \n",
       "4   781532  12095076          3.0         4.0                3.0   \n",
       "\n",
       "   calculatedfinishedsquarefeet  finishedsquarefeet12    fips  fullbathcnt  \\\n",
       "0                        3100.0                3100.0  6059.0          3.0   \n",
       "1                        1465.0                1465.0  6111.0          1.0   \n",
       "2                        1243.0                1243.0  6059.0          2.0   \n",
       "3                        2376.0                2376.0  6037.0          3.0   \n",
       "4                        2962.0                2962.0  6037.0          3.0   \n",
       "\n",
       "     latitude  ...  yearbuilt  structuretaxvaluedollarcnt taxvaluedollarcnt  \\\n",
       "0  33634931.0  ...     1998.0                    485713.0         1023282.0   \n",
       "1  34449266.0  ...     1967.0                     88000.0          464000.0   \n",
       "2  33886168.0  ...     1962.0                     85289.0          564778.0   \n",
       "3  34245180.0  ...     1970.0                    108918.0          145143.0   \n",
       "4  34145202.0  ...     1950.0                    276684.0          773303.0   \n",
       "\n",
       "   assessmentyear  landtaxvaluedollarcnt  taxamount  censustractandblock  \\\n",
       "0          2016.0               537569.0   11013.72         6.059063e+13   \n",
       "1          2016.0               376000.0    5672.48         6.111001e+13   \n",
       "2          2016.0               479489.0    6488.30         6.059022e+13   \n",
       "3          2016.0                36225.0    1777.51         6.037300e+13   \n",
       "4          2016.0               496619.0    9516.26         6.037461e+13   \n",
       "\n",
       "   logerror  transactiondate        propertylandusedesc  \n",
       "0  0.025595       2017-01-01  Single Family Residential  \n",
       "1  0.055619       2017-01-01  Single Family Residential  \n",
       "2  0.005383       2017-01-01  Single Family Residential  \n",
       "3 -0.103410       2017-01-01  Single Family Residential  \n",
       "4 -0.001011       2017-01-01  Single Family Residential  \n",
       "\n",
       "[5 rows x 29 columns]"
      ]
     },
     "execution_count": 3,
     "metadata": {},
     "output_type": "execute_result"
    }
   ],
   "source": [
    "#Read in the cached dataset\n",
    "df = pd.read_csv('zillow.csv', index_col='Unnamed: 0')\n",
    "\n",
    "df.head()"
   ]
  },
  {
   "cell_type": "code",
   "execution_count": 4,
   "id": "8edbf10f",
   "metadata": {},
   "outputs": [
    {
     "name": "stdout",
     "output_type": "stream",
     "text": [
      "<class 'pandas.core.frame.DataFrame'>\n",
      "Int64Index: 52317 entries, 0 to 52318\n",
      "Data columns (total 29 columns):\n",
      " #   Column                        Non-Null Count  Dtype  \n",
      "---  ------                        --------------  -----  \n",
      " 0   id                            52317 non-null  int64  \n",
      " 1   parcelid                      52317 non-null  int64  \n",
      " 2   bathroomcnt                   52317 non-null  float64\n",
      " 3   bedroomcnt                    52317 non-null  float64\n",
      " 4   calculatedbathnbr             52184 non-null  float64\n",
      " 5   calculatedfinishedsquarefeet  52238 non-null  float64\n",
      " 6   finishedsquarefeet12          52073 non-null  float64\n",
      " 7   fips                          52317 non-null  float64\n",
      " 8   fullbathcnt                   52184 non-null  float64\n",
      " 9   latitude                      52317 non-null  float64\n",
      " 10  longitude                     52317 non-null  float64\n",
      " 11  lotsizesquarefeet             51953 non-null  float64\n",
      " 12  propertycountylandusecode     52317 non-null  object \n",
      " 13  propertylandusetypeid         52317 non-null  float64\n",
      " 14  rawcensustractandblock        52317 non-null  float64\n",
      " 15  regionidcity                  51283 non-null  float64\n",
      " 16  regionidcounty                52317 non-null  float64\n",
      " 17  regionidzip                   52293 non-null  float64\n",
      " 18  roomcnt                       52317 non-null  float64\n",
      " 19  yearbuilt                     52205 non-null  float64\n",
      " 20  structuretaxvaluedollarcnt    52237 non-null  float64\n",
      " 21  taxvaluedollarcnt             52316 non-null  float64\n",
      " 22  assessmentyear                52317 non-null  float64\n",
      " 23  landtaxvaluedollarcnt         52316 non-null  float64\n",
      " 24  taxamount                     52313 non-null  float64\n",
      " 25  censustractandblock           52198 non-null  float64\n",
      " 26  logerror                      52317 non-null  float64\n",
      " 27  transactiondate               52317 non-null  object \n",
      " 28  propertylandusedesc           52317 non-null  object \n",
      "dtypes: float64(24), int64(2), object(3)\n",
      "memory usage: 12.0+ MB\n"
     ]
    }
   ],
   "source": [
    "#Check the information contained in each column\n",
    "df.info()"
   ]
  },
  {
   "cell_type": "code",
   "execution_count": 5,
   "id": "c35998d3",
   "metadata": {},
   "outputs": [
    {
     "data": {
      "text/html": [
       "<div>\n",
       "<style scoped>\n",
       "    .dataframe tbody tr th:only-of-type {\n",
       "        vertical-align: middle;\n",
       "    }\n",
       "\n",
       "    .dataframe tbody tr th {\n",
       "        vertical-align: top;\n",
       "    }\n",
       "\n",
       "    .dataframe thead th {\n",
       "        text-align: right;\n",
       "    }\n",
       "</style>\n",
       "<table border=\"1\" class=\"dataframe\">\n",
       "  <thead>\n",
       "    <tr style=\"text-align: right;\">\n",
       "      <th></th>\n",
       "      <th>id</th>\n",
       "      <th>parcelid</th>\n",
       "      <th>bathroomcnt</th>\n",
       "      <th>bedroomcnt</th>\n",
       "      <th>calculatedbathnbr</th>\n",
       "      <th>calculatedfinishedsquarefeet</th>\n",
       "      <th>finishedsquarefeet12</th>\n",
       "      <th>fips</th>\n",
       "      <th>fullbathcnt</th>\n",
       "      <th>latitude</th>\n",
       "      <th>...</th>\n",
       "      <th>structuretaxvaluedollarcnt</th>\n",
       "      <th>taxvaluedollarcnt</th>\n",
       "      <th>assessmentyear</th>\n",
       "      <th>landtaxvaluedollarcnt</th>\n",
       "      <th>taxamount</th>\n",
       "      <th>censustractandblock</th>\n",
       "      <th>logerror</th>\n",
       "      <th>transactiondate</th>\n",
       "      <th>propertylandusedesc</th>\n",
       "      <th>age</th>\n",
       "    </tr>\n",
       "  </thead>\n",
       "  <tbody>\n",
       "    <tr>\n",
       "      <th>0</th>\n",
       "      <td>1727539</td>\n",
       "      <td>14297519</td>\n",
       "      <td>3.5</td>\n",
       "      <td>4.0</td>\n",
       "      <td>3.5</td>\n",
       "      <td>3100.0</td>\n",
       "      <td>3100.0</td>\n",
       "      <td>6059.0</td>\n",
       "      <td>3.0</td>\n",
       "      <td>33634931.0</td>\n",
       "      <td>...</td>\n",
       "      <td>485713.0</td>\n",
       "      <td>1023282.0</td>\n",
       "      <td>2016.0</td>\n",
       "      <td>537569.0</td>\n",
       "      <td>11013.72</td>\n",
       "      <td>6.059063e+13</td>\n",
       "      <td>0.025595</td>\n",
       "      <td>2017-01-01</td>\n",
       "      <td>Single Family Residential</td>\n",
       "      <td>19.0</td>\n",
       "    </tr>\n",
       "    <tr>\n",
       "      <th>1</th>\n",
       "      <td>1387261</td>\n",
       "      <td>17052889</td>\n",
       "      <td>1.0</td>\n",
       "      <td>2.0</td>\n",
       "      <td>1.0</td>\n",
       "      <td>1465.0</td>\n",
       "      <td>1465.0</td>\n",
       "      <td>6111.0</td>\n",
       "      <td>1.0</td>\n",
       "      <td>34449266.0</td>\n",
       "      <td>...</td>\n",
       "      <td>88000.0</td>\n",
       "      <td>464000.0</td>\n",
       "      <td>2016.0</td>\n",
       "      <td>376000.0</td>\n",
       "      <td>5672.48</td>\n",
       "      <td>6.111001e+13</td>\n",
       "      <td>0.055619</td>\n",
       "      <td>2017-01-01</td>\n",
       "      <td>Single Family Residential</td>\n",
       "      <td>50.0</td>\n",
       "    </tr>\n",
       "    <tr>\n",
       "      <th>2</th>\n",
       "      <td>11677</td>\n",
       "      <td>14186244</td>\n",
       "      <td>2.0</td>\n",
       "      <td>3.0</td>\n",
       "      <td>2.0</td>\n",
       "      <td>1243.0</td>\n",
       "      <td>1243.0</td>\n",
       "      <td>6059.0</td>\n",
       "      <td>2.0</td>\n",
       "      <td>33886168.0</td>\n",
       "      <td>...</td>\n",
       "      <td>85289.0</td>\n",
       "      <td>564778.0</td>\n",
       "      <td>2016.0</td>\n",
       "      <td>479489.0</td>\n",
       "      <td>6488.30</td>\n",
       "      <td>6.059022e+13</td>\n",
       "      <td>0.005383</td>\n",
       "      <td>2017-01-01</td>\n",
       "      <td>Single Family Residential</td>\n",
       "      <td>55.0</td>\n",
       "    </tr>\n",
       "    <tr>\n",
       "      <th>3</th>\n",
       "      <td>2288172</td>\n",
       "      <td>12177905</td>\n",
       "      <td>3.0</td>\n",
       "      <td>4.0</td>\n",
       "      <td>3.0</td>\n",
       "      <td>2376.0</td>\n",
       "      <td>2376.0</td>\n",
       "      <td>6037.0</td>\n",
       "      <td>3.0</td>\n",
       "      <td>34245180.0</td>\n",
       "      <td>...</td>\n",
       "      <td>108918.0</td>\n",
       "      <td>145143.0</td>\n",
       "      <td>2016.0</td>\n",
       "      <td>36225.0</td>\n",
       "      <td>1777.51</td>\n",
       "      <td>6.037300e+13</td>\n",
       "      <td>-0.103410</td>\n",
       "      <td>2017-01-01</td>\n",
       "      <td>Single Family Residential</td>\n",
       "      <td>47.0</td>\n",
       "    </tr>\n",
       "    <tr>\n",
       "      <th>4</th>\n",
       "      <td>781532</td>\n",
       "      <td>12095076</td>\n",
       "      <td>3.0</td>\n",
       "      <td>4.0</td>\n",
       "      <td>3.0</td>\n",
       "      <td>2962.0</td>\n",
       "      <td>2962.0</td>\n",
       "      <td>6037.0</td>\n",
       "      <td>3.0</td>\n",
       "      <td>34145202.0</td>\n",
       "      <td>...</td>\n",
       "      <td>276684.0</td>\n",
       "      <td>773303.0</td>\n",
       "      <td>2016.0</td>\n",
       "      <td>496619.0</td>\n",
       "      <td>9516.26</td>\n",
       "      <td>6.037461e+13</td>\n",
       "      <td>-0.001011</td>\n",
       "      <td>2017-01-01</td>\n",
       "      <td>Single Family Residential</td>\n",
       "      <td>67.0</td>\n",
       "    </tr>\n",
       "  </tbody>\n",
       "</table>\n",
       "<p>5 rows × 30 columns</p>\n",
       "</div>"
      ],
      "text/plain": [
       "        id  parcelid  bathroomcnt  bedroomcnt  calculatedbathnbr  \\\n",
       "0  1727539  14297519          3.5         4.0                3.5   \n",
       "1  1387261  17052889          1.0         2.0                1.0   \n",
       "2    11677  14186244          2.0         3.0                2.0   \n",
       "3  2288172  12177905          3.0         4.0                3.0   \n",
       "4   781532  12095076          3.0         4.0                3.0   \n",
       "\n",
       "   calculatedfinishedsquarefeet  finishedsquarefeet12    fips  fullbathcnt  \\\n",
       "0                        3100.0                3100.0  6059.0          3.0   \n",
       "1                        1465.0                1465.0  6111.0          1.0   \n",
       "2                        1243.0                1243.0  6059.0          2.0   \n",
       "3                        2376.0                2376.0  6037.0          3.0   \n",
       "4                        2962.0                2962.0  6037.0          3.0   \n",
       "\n",
       "     latitude  ...  structuretaxvaluedollarcnt  taxvaluedollarcnt  \\\n",
       "0  33634931.0  ...                    485713.0          1023282.0   \n",
       "1  34449266.0  ...                     88000.0           464000.0   \n",
       "2  33886168.0  ...                     85289.0           564778.0   \n",
       "3  34245180.0  ...                    108918.0           145143.0   \n",
       "4  34145202.0  ...                    276684.0           773303.0   \n",
       "\n",
       "  assessmentyear  landtaxvaluedollarcnt  taxamount  censustractandblock  \\\n",
       "0         2016.0               537569.0   11013.72         6.059063e+13   \n",
       "1         2016.0               376000.0    5672.48         6.111001e+13   \n",
       "2         2016.0               479489.0    6488.30         6.059022e+13   \n",
       "3         2016.0                36225.0    1777.51         6.037300e+13   \n",
       "4         2016.0               496619.0    9516.26         6.037461e+13   \n",
       "\n",
       "   logerror  transactiondate        propertylandusedesc   age  \n",
       "0  0.025595       2017-01-01  Single Family Residential  19.0  \n",
       "1  0.055619       2017-01-01  Single Family Residential  50.0  \n",
       "2  0.005383       2017-01-01  Single Family Residential  55.0  \n",
       "3 -0.103410       2017-01-01  Single Family Residential  47.0  \n",
       "4 -0.001011       2017-01-01  Single Family Residential  67.0  \n",
       "\n",
       "[5 rows x 30 columns]"
      ]
     },
     "execution_count": 5,
     "metadata": {},
     "output_type": "execute_result"
    }
   ],
   "source": [
    "#Create an age feature\n",
    "df['age'] = 2017 - df['yearbuilt']\n",
    "\n",
    "df.head()"
   ]
  },
  {
   "cell_type": "code",
   "execution_count": 6,
   "id": "f6ccf45e",
   "metadata": {},
   "outputs": [
    {
     "data": {
      "text/html": [
       "<div>\n",
       "<style scoped>\n",
       "    .dataframe tbody tr th:only-of-type {\n",
       "        vertical-align: middle;\n",
       "    }\n",
       "\n",
       "    .dataframe tbody tr th {\n",
       "        vertical-align: top;\n",
       "    }\n",
       "\n",
       "    .dataframe thead th {\n",
       "        text-align: right;\n",
       "    }\n",
       "</style>\n",
       "<table border=\"1\" class=\"dataframe\">\n",
       "  <thead>\n",
       "    <tr style=\"text-align: right;\">\n",
       "      <th></th>\n",
       "      <th>id</th>\n",
       "      <th>parcelid</th>\n",
       "      <th>bathroomcnt</th>\n",
       "      <th>bedroomcnt</th>\n",
       "      <th>calculatedbathnbr</th>\n",
       "      <th>calculatedfinishedsquarefeet</th>\n",
       "      <th>finishedsquarefeet12</th>\n",
       "      <th>fips</th>\n",
       "      <th>fullbathcnt</th>\n",
       "      <th>latitude</th>\n",
       "      <th>...</th>\n",
       "      <th>structuretaxvaluedollarcnt</th>\n",
       "      <th>taxvaluedollarcnt</th>\n",
       "      <th>assessmentyear</th>\n",
       "      <th>landtaxvaluedollarcnt</th>\n",
       "      <th>taxamount</th>\n",
       "      <th>censustractandblock</th>\n",
       "      <th>logerror</th>\n",
       "      <th>transactiondate</th>\n",
       "      <th>propertylandusedesc</th>\n",
       "      <th>age</th>\n",
       "    </tr>\n",
       "  </thead>\n",
       "  <tbody>\n",
       "    <tr>\n",
       "      <th>124</th>\n",
       "      <td>2546776</td>\n",
       "      <td>14190895</td>\n",
       "      <td>0.0</td>\n",
       "      <td>0.0</td>\n",
       "      <td>NaN</td>\n",
       "      <td>NaN</td>\n",
       "      <td>NaN</td>\n",
       "      <td>6059.0</td>\n",
       "      <td>NaN</td>\n",
       "      <td>33879900.0</td>\n",
       "      <td>...</td>\n",
       "      <td>432623.0</td>\n",
       "      <td>830145.0</td>\n",
       "      <td>2016.0</td>\n",
       "      <td>397522.0</td>\n",
       "      <td>9354.84</td>\n",
       "      <td>6.059022e+13</td>\n",
       "      <td>-0.001296</td>\n",
       "      <td>2017-01-03</td>\n",
       "      <td>Single Family Residential</td>\n",
       "      <td>NaN</td>\n",
       "    </tr>\n",
       "    <tr>\n",
       "      <th>714</th>\n",
       "      <td>722877</td>\n",
       "      <td>12281458</td>\n",
       "      <td>1.0</td>\n",
       "      <td>2.0</td>\n",
       "      <td>1.0</td>\n",
       "      <td>994.0</td>\n",
       "      <td>994.0</td>\n",
       "      <td>6037.0</td>\n",
       "      <td>1.0</td>\n",
       "      <td>33909691.0</td>\n",
       "      <td>...</td>\n",
       "      <td>59862.0</td>\n",
       "      <td>136296.0</td>\n",
       "      <td>2016.0</td>\n",
       "      <td>76434.0</td>\n",
       "      <td>2603.48</td>\n",
       "      <td>6.037542e+13</td>\n",
       "      <td>0.111950</td>\n",
       "      <td>2017-01-05</td>\n",
       "      <td>Single Family Residential</td>\n",
       "      <td>NaN</td>\n",
       "    </tr>\n",
       "    <tr>\n",
       "      <th>2602</th>\n",
       "      <td>496818</td>\n",
       "      <td>11696784</td>\n",
       "      <td>0.0</td>\n",
       "      <td>0.0</td>\n",
       "      <td>NaN</td>\n",
       "      <td>1378.0</td>\n",
       "      <td>1378.0</td>\n",
       "      <td>6037.0</td>\n",
       "      <td>NaN</td>\n",
       "      <td>33991632.0</td>\n",
       "      <td>...</td>\n",
       "      <td>41137.0</td>\n",
       "      <td>168828.0</td>\n",
       "      <td>2016.0</td>\n",
       "      <td>127691.0</td>\n",
       "      <td>2135.39</td>\n",
       "      <td>6.037235e+13</td>\n",
       "      <td>-0.124790</td>\n",
       "      <td>2017-06-16</td>\n",
       "      <td>Single Family Residential</td>\n",
       "      <td>NaN</td>\n",
       "    </tr>\n",
       "    <tr>\n",
       "      <th>3305</th>\n",
       "      <td>1580385</td>\n",
       "      <td>14197244</td>\n",
       "      <td>0.0</td>\n",
       "      <td>0.0</td>\n",
       "      <td>NaN</td>\n",
       "      <td>NaN</td>\n",
       "      <td>NaN</td>\n",
       "      <td>6059.0</td>\n",
       "      <td>NaN</td>\n",
       "      <td>33898674.0</td>\n",
       "      <td>...</td>\n",
       "      <td>384523.0</td>\n",
       "      <td>643406.0</td>\n",
       "      <td>2016.0</td>\n",
       "      <td>258883.0</td>\n",
       "      <td>7046.60</td>\n",
       "      <td>6.059022e+13</td>\n",
       "      <td>0.014172</td>\n",
       "      <td>2017-01-24</td>\n",
       "      <td>Single Family Residential</td>\n",
       "      <td>NaN</td>\n",
       "    </tr>\n",
       "    <tr>\n",
       "      <th>3513</th>\n",
       "      <td>338423</td>\n",
       "      <td>13850462</td>\n",
       "      <td>1.0</td>\n",
       "      <td>3.0</td>\n",
       "      <td>1.0</td>\n",
       "      <td>2030.0</td>\n",
       "      <td>NaN</td>\n",
       "      <td>6059.0</td>\n",
       "      <td>1.0</td>\n",
       "      <td>33943431.0</td>\n",
       "      <td>...</td>\n",
       "      <td>56263.0</td>\n",
       "      <td>425491.0</td>\n",
       "      <td>2016.0</td>\n",
       "      <td>369228.0</td>\n",
       "      <td>5104.70</td>\n",
       "      <td>6.059001e+13</td>\n",
       "      <td>0.026100</td>\n",
       "      <td>2017-01-25</td>\n",
       "      <td>Single Family Residential</td>\n",
       "      <td>NaN</td>\n",
       "    </tr>\n",
       "    <tr>\n",
       "      <th>...</th>\n",
       "      <td>...</td>\n",
       "      <td>...</td>\n",
       "      <td>...</td>\n",
       "      <td>...</td>\n",
       "      <td>...</td>\n",
       "      <td>...</td>\n",
       "      <td>...</td>\n",
       "      <td>...</td>\n",
       "      <td>...</td>\n",
       "      <td>...</td>\n",
       "      <td>...</td>\n",
       "      <td>...</td>\n",
       "      <td>...</td>\n",
       "      <td>...</td>\n",
       "      <td>...</td>\n",
       "      <td>...</td>\n",
       "      <td>...</td>\n",
       "      <td>...</td>\n",
       "      <td>...</td>\n",
       "      <td>...</td>\n",
       "      <td>...</td>\n",
       "    </tr>\n",
       "    <tr>\n",
       "      <th>48475</th>\n",
       "      <td>2683968</td>\n",
       "      <td>14341510</td>\n",
       "      <td>0.0</td>\n",
       "      <td>0.0</td>\n",
       "      <td>NaN</td>\n",
       "      <td>NaN</td>\n",
       "      <td>NaN</td>\n",
       "      <td>6059.0</td>\n",
       "      <td>NaN</td>\n",
       "      <td>33736792.0</td>\n",
       "      <td>...</td>\n",
       "      <td>310740.0</td>\n",
       "      <td>327761.0</td>\n",
       "      <td>2016.0</td>\n",
       "      <td>17021.0</td>\n",
       "      <td>7805.24</td>\n",
       "      <td>NaN</td>\n",
       "      <td>2.389413</td>\n",
       "      <td>2017-08-30</td>\n",
       "      <td>Single Family Residential</td>\n",
       "      <td>NaN</td>\n",
       "    </tr>\n",
       "    <tr>\n",
       "      <th>49568</th>\n",
       "      <td>1640344</td>\n",
       "      <td>14115687</td>\n",
       "      <td>0.0</td>\n",
       "      <td>0.0</td>\n",
       "      <td>NaN</td>\n",
       "      <td>NaN</td>\n",
       "      <td>NaN</td>\n",
       "      <td>6059.0</td>\n",
       "      <td>NaN</td>\n",
       "      <td>33828401.0</td>\n",
       "      <td>...</td>\n",
       "      <td>96594.0</td>\n",
       "      <td>321981.0</td>\n",
       "      <td>2016.0</td>\n",
       "      <td>225387.0</td>\n",
       "      <td>3992.80</td>\n",
       "      <td>6.059087e+13</td>\n",
       "      <td>-0.099231</td>\n",
       "      <td>2017-09-02</td>\n",
       "      <td>Single Family Residential</td>\n",
       "      <td>NaN</td>\n",
       "    </tr>\n",
       "    <tr>\n",
       "      <th>49956</th>\n",
       "      <td>2117639</td>\n",
       "      <td>17292931</td>\n",
       "      <td>0.0</td>\n",
       "      <td>0.0</td>\n",
       "      <td>NaN</td>\n",
       "      <td>NaN</td>\n",
       "      <td>NaN</td>\n",
       "      <td>6111.0</td>\n",
       "      <td>NaN</td>\n",
       "      <td>34127993.0</td>\n",
       "      <td>...</td>\n",
       "      <td>358000.0</td>\n",
       "      <td>468439.0</td>\n",
       "      <td>2016.0</td>\n",
       "      <td>110439.0</td>\n",
       "      <td>4985.16</td>\n",
       "      <td>NaN</td>\n",
       "      <td>0.080163</td>\n",
       "      <td>2017-09-06</td>\n",
       "      <td>Single Family Residential</td>\n",
       "      <td>NaN</td>\n",
       "    </tr>\n",
       "    <tr>\n",
       "      <th>50235</th>\n",
       "      <td>388588</td>\n",
       "      <td>17202394</td>\n",
       "      <td>2.0</td>\n",
       "      <td>4.0</td>\n",
       "      <td>2.0</td>\n",
       "      <td>2320.0</td>\n",
       "      <td>2320.0</td>\n",
       "      <td>6111.0</td>\n",
       "      <td>2.0</td>\n",
       "      <td>34288332.0</td>\n",
       "      <td>...</td>\n",
       "      <td>207727.0</td>\n",
       "      <td>493355.0</td>\n",
       "      <td>2016.0</td>\n",
       "      <td>285628.0</td>\n",
       "      <td>5419.22</td>\n",
       "      <td>6.111008e+13</td>\n",
       "      <td>-0.075827</td>\n",
       "      <td>2017-09-07</td>\n",
       "      <td>Single Family Residential</td>\n",
       "      <td>NaN</td>\n",
       "    </tr>\n",
       "    <tr>\n",
       "      <th>52307</th>\n",
       "      <td>2913200</td>\n",
       "      <td>11953526</td>\n",
       "      <td>0.0</td>\n",
       "      <td>0.0</td>\n",
       "      <td>NaN</td>\n",
       "      <td>892.0</td>\n",
       "      <td>892.0</td>\n",
       "      <td>6037.0</td>\n",
       "      <td>NaN</td>\n",
       "      <td>34102816.0</td>\n",
       "      <td>...</td>\n",
       "      <td>6394.0</td>\n",
       "      <td>34124.0</td>\n",
       "      <td>2016.0</td>\n",
       "      <td>27730.0</td>\n",
       "      <td>490.51</td>\n",
       "      <td>6.037187e+13</td>\n",
       "      <td>-0.159471</td>\n",
       "      <td>2017-09-19</td>\n",
       "      <td>Single Family Residential</td>\n",
       "      <td>NaN</td>\n",
       "    </tr>\n",
       "  </tbody>\n",
       "</table>\n",
       "<p>112 rows × 30 columns</p>\n",
       "</div>"
      ],
      "text/plain": [
       "            id  parcelid  bathroomcnt  bedroomcnt  calculatedbathnbr  \\\n",
       "124    2546776  14190895          0.0         0.0                NaN   \n",
       "714     722877  12281458          1.0         2.0                1.0   \n",
       "2602    496818  11696784          0.0         0.0                NaN   \n",
       "3305   1580385  14197244          0.0         0.0                NaN   \n",
       "3513    338423  13850462          1.0         3.0                1.0   \n",
       "...        ...       ...          ...         ...                ...   \n",
       "48475  2683968  14341510          0.0         0.0                NaN   \n",
       "49568  1640344  14115687          0.0         0.0                NaN   \n",
       "49956  2117639  17292931          0.0         0.0                NaN   \n",
       "50235   388588  17202394          2.0         4.0                2.0   \n",
       "52307  2913200  11953526          0.0         0.0                NaN   \n",
       "\n",
       "       calculatedfinishedsquarefeet  finishedsquarefeet12    fips  \\\n",
       "124                             NaN                   NaN  6059.0   \n",
       "714                           994.0                 994.0  6037.0   \n",
       "2602                         1378.0                1378.0  6037.0   \n",
       "3305                            NaN                   NaN  6059.0   \n",
       "3513                         2030.0                   NaN  6059.0   \n",
       "...                             ...                   ...     ...   \n",
       "48475                           NaN                   NaN  6059.0   \n",
       "49568                           NaN                   NaN  6059.0   \n",
       "49956                           NaN                   NaN  6111.0   \n",
       "50235                        2320.0                2320.0  6111.0   \n",
       "52307                         892.0                 892.0  6037.0   \n",
       "\n",
       "       fullbathcnt    latitude  ...  structuretaxvaluedollarcnt  \\\n",
       "124            NaN  33879900.0  ...                    432623.0   \n",
       "714            1.0  33909691.0  ...                     59862.0   \n",
       "2602           NaN  33991632.0  ...                     41137.0   \n",
       "3305           NaN  33898674.0  ...                    384523.0   \n",
       "3513           1.0  33943431.0  ...                     56263.0   \n",
       "...            ...         ...  ...                         ...   \n",
       "48475          NaN  33736792.0  ...                    310740.0   \n",
       "49568          NaN  33828401.0  ...                     96594.0   \n",
       "49956          NaN  34127993.0  ...                    358000.0   \n",
       "50235          2.0  34288332.0  ...                    207727.0   \n",
       "52307          NaN  34102816.0  ...                      6394.0   \n",
       "\n",
       "       taxvaluedollarcnt assessmentyear  landtaxvaluedollarcnt  taxamount  \\\n",
       "124             830145.0         2016.0               397522.0    9354.84   \n",
       "714             136296.0         2016.0                76434.0    2603.48   \n",
       "2602            168828.0         2016.0               127691.0    2135.39   \n",
       "3305            643406.0         2016.0               258883.0    7046.60   \n",
       "3513            425491.0         2016.0               369228.0    5104.70   \n",
       "...                  ...            ...                    ...        ...   \n",
       "48475           327761.0         2016.0                17021.0    7805.24   \n",
       "49568           321981.0         2016.0               225387.0    3992.80   \n",
       "49956           468439.0         2016.0               110439.0    4985.16   \n",
       "50235           493355.0         2016.0               285628.0    5419.22   \n",
       "52307            34124.0         2016.0                27730.0     490.51   \n",
       "\n",
       "       censustractandblock  logerror  transactiondate  \\\n",
       "124           6.059022e+13 -0.001296       2017-01-03   \n",
       "714           6.037542e+13  0.111950       2017-01-05   \n",
       "2602          6.037235e+13 -0.124790       2017-06-16   \n",
       "3305          6.059022e+13  0.014172       2017-01-24   \n",
       "3513          6.059001e+13  0.026100       2017-01-25   \n",
       "...                    ...       ...              ...   \n",
       "48475                  NaN  2.389413       2017-08-30   \n",
       "49568         6.059087e+13 -0.099231       2017-09-02   \n",
       "49956                  NaN  0.080163       2017-09-06   \n",
       "50235         6.111008e+13 -0.075827       2017-09-07   \n",
       "52307         6.037187e+13 -0.159471       2017-09-19   \n",
       "\n",
       "             propertylandusedesc  age  \n",
       "124    Single Family Residential  NaN  \n",
       "714    Single Family Residential  NaN  \n",
       "2602   Single Family Residential  NaN  \n",
       "3305   Single Family Residential  NaN  \n",
       "3513   Single Family Residential  NaN  \n",
       "...                          ...  ...  \n",
       "48475  Single Family Residential  NaN  \n",
       "49568  Single Family Residential  NaN  \n",
       "49956  Single Family Residential  NaN  \n",
       "50235  Single Family Residential  NaN  \n",
       "52307  Single Family Residential  NaN  \n",
       "\n",
       "[112 rows x 30 columns]"
      ]
     },
     "execution_count": 6,
     "metadata": {},
     "output_type": "execute_result"
    }
   ],
   "source": [
    "#Check for null values in my new future\n",
    "df[df['age'].isna()]"
   ]
  },
  {
   "cell_type": "code",
   "execution_count": 7,
   "id": "6a06aeee",
   "metadata": {},
   "outputs": [],
   "source": [
    "#Impute with the median\n",
    "df['age'].fillna(df['age'].median(), inplace=True)"
   ]
  },
  {
   "cell_type": "code",
   "execution_count": 8,
   "id": "b7dc25ef",
   "metadata": {},
   "outputs": [
    {
     "data": {
      "text/html": [
       "<div>\n",
       "<style scoped>\n",
       "    .dataframe tbody tr th:only-of-type {\n",
       "        vertical-align: middle;\n",
       "    }\n",
       "\n",
       "    .dataframe tbody tr th {\n",
       "        vertical-align: top;\n",
       "    }\n",
       "\n",
       "    .dataframe thead th {\n",
       "        text-align: right;\n",
       "    }\n",
       "</style>\n",
       "<table border=\"1\" class=\"dataframe\">\n",
       "  <thead>\n",
       "    <tr style=\"text-align: right;\">\n",
       "      <th></th>\n",
       "      <th>id</th>\n",
       "      <th>parcelid</th>\n",
       "      <th>bathroomcnt</th>\n",
       "      <th>bedroomcnt</th>\n",
       "      <th>calculatedbathnbr</th>\n",
       "      <th>calculatedfinishedsquarefeet</th>\n",
       "      <th>finishedsquarefeet12</th>\n",
       "      <th>fips</th>\n",
       "      <th>fullbathcnt</th>\n",
       "      <th>latitude</th>\n",
       "      <th>...</th>\n",
       "      <th>structuretaxvaluedollarcnt</th>\n",
       "      <th>taxvaluedollarcnt</th>\n",
       "      <th>assessmentyear</th>\n",
       "      <th>landtaxvaluedollarcnt</th>\n",
       "      <th>taxamount</th>\n",
       "      <th>censustractandblock</th>\n",
       "      <th>logerror</th>\n",
       "      <th>transactiondate</th>\n",
       "      <th>propertylandusedesc</th>\n",
       "      <th>age</th>\n",
       "    </tr>\n",
       "  </thead>\n",
       "  <tbody>\n",
       "    <tr>\n",
       "      <th>42178</th>\n",
       "      <td>1994678</td>\n",
       "      <td>14006983</td>\n",
       "      <td>2.0</td>\n",
       "      <td>4.0</td>\n",
       "      <td>2.0</td>\n",
       "      <td>1197.0</td>\n",
       "      <td>1197.0</td>\n",
       "      <td>6059.0</td>\n",
       "      <td>2.0</td>\n",
       "      <td>33792921.0</td>\n",
       "      <td>...</td>\n",
       "      <td>NaN</td>\n",
       "      <td>NaN</td>\n",
       "      <td>2016.0</td>\n",
       "      <td>NaN</td>\n",
       "      <td>388.18</td>\n",
       "      <td>6.059088e+13</td>\n",
       "      <td>-0.03679</td>\n",
       "      <td>2017-07-31</td>\n",
       "      <td>Single Family Residential</td>\n",
       "      <td>63.0</td>\n",
       "    </tr>\n",
       "  </tbody>\n",
       "</table>\n",
       "<p>1 rows × 30 columns</p>\n",
       "</div>"
      ],
      "text/plain": [
       "            id  parcelid  bathroomcnt  bedroomcnt  calculatedbathnbr  \\\n",
       "42178  1994678  14006983          2.0         4.0                2.0   \n",
       "\n",
       "       calculatedfinishedsquarefeet  finishedsquarefeet12    fips  \\\n",
       "42178                        1197.0                1197.0  6059.0   \n",
       "\n",
       "       fullbathcnt    latitude  ...  structuretaxvaluedollarcnt  \\\n",
       "42178          2.0  33792921.0  ...                         NaN   \n",
       "\n",
       "       taxvaluedollarcnt assessmentyear  landtaxvaluedollarcnt  taxamount  \\\n",
       "42178                NaN         2016.0                    NaN     388.18   \n",
       "\n",
       "       censustractandblock  logerror  transactiondate  \\\n",
       "42178         6.059088e+13  -0.03679       2017-07-31   \n",
       "\n",
       "             propertylandusedesc   age  \n",
       "42178  Single Family Residential  63.0  \n",
       "\n",
       "[1 rows x 30 columns]"
      ]
     },
     "execution_count": 8,
     "metadata": {},
     "output_type": "execute_result"
    }
   ],
   "source": [
    "#Check for nulls in home price\n",
    "df[df['taxvaluedollarcnt'].isna()]"
   ]
  },
  {
   "cell_type": "code",
   "execution_count": 9,
   "id": "b619be96",
   "metadata": {},
   "outputs": [],
   "source": [
    "#Fill with the median\n",
    "df['taxvaluedollarcnt'].fillna(df['taxvaluedollarcnt'].median(), inplace=True)"
   ]
  },
  {
   "cell_type": "code",
   "execution_count": 10,
   "id": "758b0cd3",
   "metadata": {},
   "outputs": [
    {
     "data": {
      "text/plain": [
       "['id',\n",
       " 'parcelid',\n",
       " 'bathroomcnt',\n",
       " 'bedroomcnt',\n",
       " 'calculatedbathnbr',\n",
       " 'calculatedfinishedsquarefeet',\n",
       " 'finishedsquarefeet12',\n",
       " 'fips',\n",
       " 'fullbathcnt',\n",
       " 'latitude',\n",
       " 'longitude',\n",
       " 'lotsizesquarefeet',\n",
       " 'propertycountylandusecode',\n",
       " 'propertylandusetypeid',\n",
       " 'rawcensustractandblock',\n",
       " 'regionidcity',\n",
       " 'regionidcounty',\n",
       " 'regionidzip',\n",
       " 'roomcnt',\n",
       " 'yearbuilt',\n",
       " 'structuretaxvaluedollarcnt',\n",
       " 'taxvaluedollarcnt',\n",
       " 'assessmentyear',\n",
       " 'landtaxvaluedollarcnt',\n",
       " 'taxamount',\n",
       " 'censustractandblock',\n",
       " 'logerror',\n",
       " 'transactiondate',\n",
       " 'propertylandusedesc',\n",
       " 'age']"
      ]
     },
     "execution_count": 10,
     "metadata": {},
     "output_type": "execute_result"
    }
   ],
   "source": [
    "#Look at all available features to begin asking questions of my data\n",
    "list(df.columns)"
   ]
  },
  {
   "cell_type": "code",
   "execution_count": 11,
   "id": "f78728bf",
   "metadata": {},
   "outputs": [],
   "source": [
    "#Set the value of alpha for statistical tests\n",
    "alpha = 0.05"
   ]
  },
  {
   "cell_type": "markdown",
   "id": "854c5537",
   "metadata": {},
   "source": [
    "## Question 1\n",
    "\n",
    "Is log error significantly different for properties in the three counties?\n",
    "\n",
    "Null hypothesis: Log error will be the same across all three counties.  \n",
    "Alternative hypothesis: Log error will vary based on county."
   ]
  },
  {
   "cell_type": "code",
   "execution_count": 12,
   "id": "971bd25b",
   "metadata": {},
   "outputs": [
    {
     "data": {
      "text/plain": [
       "6037.0    33821\n",
       "6059.0    14111\n",
       "6111.0     4385\n",
       "Name: fips, dtype: int64"
      ]
     },
     "execution_count": 12,
     "metadata": {},
     "output_type": "execute_result"
    }
   ],
   "source": [
    "#Look at the distribution of fips in the dataset\n",
    "df['fips'].value_counts()"
   ]
  },
  {
   "cell_type": "code",
   "execution_count": 13,
   "id": "642cafb4",
   "metadata": {},
   "outputs": [],
   "source": [
    "#Create a dictionary mapping the fips values to the counties\n",
    "county_dict = {6037.0: 'LA County', 6059.0: 'Orange County',\n",
    "               6111.0: 'Ventura County'}"
   ]
  },
  {
   "cell_type": "code",
   "execution_count": 14,
   "id": "f54861d6",
   "metadata": {},
   "outputs": [
    {
     "data": {
      "text/html": [
       "<div>\n",
       "<style scoped>\n",
       "    .dataframe tbody tr th:only-of-type {\n",
       "        vertical-align: middle;\n",
       "    }\n",
       "\n",
       "    .dataframe tbody tr th {\n",
       "        vertical-align: top;\n",
       "    }\n",
       "\n",
       "    .dataframe thead th {\n",
       "        text-align: right;\n",
       "    }\n",
       "</style>\n",
       "<table border=\"1\" class=\"dataframe\">\n",
       "  <thead>\n",
       "    <tr style=\"text-align: right;\">\n",
       "      <th></th>\n",
       "      <th>id</th>\n",
       "      <th>parcelid</th>\n",
       "      <th>bathroomcnt</th>\n",
       "      <th>bedroomcnt</th>\n",
       "      <th>calculatedbathnbr</th>\n",
       "      <th>calculatedfinishedsquarefeet</th>\n",
       "      <th>finishedsquarefeet12</th>\n",
       "      <th>county</th>\n",
       "      <th>fullbathcnt</th>\n",
       "      <th>latitude</th>\n",
       "      <th>...</th>\n",
       "      <th>structuretaxvaluedollarcnt</th>\n",
       "      <th>taxvaluedollarcnt</th>\n",
       "      <th>assessmentyear</th>\n",
       "      <th>landtaxvaluedollarcnt</th>\n",
       "      <th>taxamount</th>\n",
       "      <th>censustractandblock</th>\n",
       "      <th>logerror</th>\n",
       "      <th>transactiondate</th>\n",
       "      <th>propertylandusedesc</th>\n",
       "      <th>age</th>\n",
       "    </tr>\n",
       "  </thead>\n",
       "  <tbody>\n",
       "    <tr>\n",
       "      <th>0</th>\n",
       "      <td>1727539</td>\n",
       "      <td>14297519</td>\n",
       "      <td>3.5</td>\n",
       "      <td>4.0</td>\n",
       "      <td>3.5</td>\n",
       "      <td>3100.0</td>\n",
       "      <td>3100.0</td>\n",
       "      <td>Orange County</td>\n",
       "      <td>3.0</td>\n",
       "      <td>33634931.0</td>\n",
       "      <td>...</td>\n",
       "      <td>485713.0</td>\n",
       "      <td>1023282.0</td>\n",
       "      <td>2016.0</td>\n",
       "      <td>537569.0</td>\n",
       "      <td>11013.72</td>\n",
       "      <td>6.059063e+13</td>\n",
       "      <td>0.025595</td>\n",
       "      <td>2017-01-01</td>\n",
       "      <td>Single Family Residential</td>\n",
       "      <td>19.0</td>\n",
       "    </tr>\n",
       "    <tr>\n",
       "      <th>1</th>\n",
       "      <td>1387261</td>\n",
       "      <td>17052889</td>\n",
       "      <td>1.0</td>\n",
       "      <td>2.0</td>\n",
       "      <td>1.0</td>\n",
       "      <td>1465.0</td>\n",
       "      <td>1465.0</td>\n",
       "      <td>Ventura County</td>\n",
       "      <td>1.0</td>\n",
       "      <td>34449266.0</td>\n",
       "      <td>...</td>\n",
       "      <td>88000.0</td>\n",
       "      <td>464000.0</td>\n",
       "      <td>2016.0</td>\n",
       "      <td>376000.0</td>\n",
       "      <td>5672.48</td>\n",
       "      <td>6.111001e+13</td>\n",
       "      <td>0.055619</td>\n",
       "      <td>2017-01-01</td>\n",
       "      <td>Single Family Residential</td>\n",
       "      <td>50.0</td>\n",
       "    </tr>\n",
       "    <tr>\n",
       "      <th>2</th>\n",
       "      <td>11677</td>\n",
       "      <td>14186244</td>\n",
       "      <td>2.0</td>\n",
       "      <td>3.0</td>\n",
       "      <td>2.0</td>\n",
       "      <td>1243.0</td>\n",
       "      <td>1243.0</td>\n",
       "      <td>Orange County</td>\n",
       "      <td>2.0</td>\n",
       "      <td>33886168.0</td>\n",
       "      <td>...</td>\n",
       "      <td>85289.0</td>\n",
       "      <td>564778.0</td>\n",
       "      <td>2016.0</td>\n",
       "      <td>479489.0</td>\n",
       "      <td>6488.30</td>\n",
       "      <td>6.059022e+13</td>\n",
       "      <td>0.005383</td>\n",
       "      <td>2017-01-01</td>\n",
       "      <td>Single Family Residential</td>\n",
       "      <td>55.0</td>\n",
       "    </tr>\n",
       "    <tr>\n",
       "      <th>3</th>\n",
       "      <td>2288172</td>\n",
       "      <td>12177905</td>\n",
       "      <td>3.0</td>\n",
       "      <td>4.0</td>\n",
       "      <td>3.0</td>\n",
       "      <td>2376.0</td>\n",
       "      <td>2376.0</td>\n",
       "      <td>LA County</td>\n",
       "      <td>3.0</td>\n",
       "      <td>34245180.0</td>\n",
       "      <td>...</td>\n",
       "      <td>108918.0</td>\n",
       "      <td>145143.0</td>\n",
       "      <td>2016.0</td>\n",
       "      <td>36225.0</td>\n",
       "      <td>1777.51</td>\n",
       "      <td>6.037300e+13</td>\n",
       "      <td>-0.103410</td>\n",
       "      <td>2017-01-01</td>\n",
       "      <td>Single Family Residential</td>\n",
       "      <td>47.0</td>\n",
       "    </tr>\n",
       "    <tr>\n",
       "      <th>4</th>\n",
       "      <td>781532</td>\n",
       "      <td>12095076</td>\n",
       "      <td>3.0</td>\n",
       "      <td>4.0</td>\n",
       "      <td>3.0</td>\n",
       "      <td>2962.0</td>\n",
       "      <td>2962.0</td>\n",
       "      <td>LA County</td>\n",
       "      <td>3.0</td>\n",
       "      <td>34145202.0</td>\n",
       "      <td>...</td>\n",
       "      <td>276684.0</td>\n",
       "      <td>773303.0</td>\n",
       "      <td>2016.0</td>\n",
       "      <td>496619.0</td>\n",
       "      <td>9516.26</td>\n",
       "      <td>6.037461e+13</td>\n",
       "      <td>-0.001011</td>\n",
       "      <td>2017-01-01</td>\n",
       "      <td>Single Family Residential</td>\n",
       "      <td>67.0</td>\n",
       "    </tr>\n",
       "  </tbody>\n",
       "</table>\n",
       "<p>5 rows × 30 columns</p>\n",
       "</div>"
      ],
      "text/plain": [
       "        id  parcelid  bathroomcnt  bedroomcnt  calculatedbathnbr  \\\n",
       "0  1727539  14297519          3.5         4.0                3.5   \n",
       "1  1387261  17052889          1.0         2.0                1.0   \n",
       "2    11677  14186244          2.0         3.0                2.0   \n",
       "3  2288172  12177905          3.0         4.0                3.0   \n",
       "4   781532  12095076          3.0         4.0                3.0   \n",
       "\n",
       "   calculatedfinishedsquarefeet  finishedsquarefeet12          county  \\\n",
       "0                        3100.0                3100.0   Orange County   \n",
       "1                        1465.0                1465.0  Ventura County   \n",
       "2                        1243.0                1243.0   Orange County   \n",
       "3                        2376.0                2376.0       LA County   \n",
       "4                        2962.0                2962.0       LA County   \n",
       "\n",
       "   fullbathcnt    latitude  ...  structuretaxvaluedollarcnt  \\\n",
       "0          3.0  33634931.0  ...                    485713.0   \n",
       "1          1.0  34449266.0  ...                     88000.0   \n",
       "2          2.0  33886168.0  ...                     85289.0   \n",
       "3          3.0  34245180.0  ...                    108918.0   \n",
       "4          3.0  34145202.0  ...                    276684.0   \n",
       "\n",
       "   taxvaluedollarcnt assessmentyear  landtaxvaluedollarcnt  taxamount  \\\n",
       "0          1023282.0         2016.0               537569.0   11013.72   \n",
       "1           464000.0         2016.0               376000.0    5672.48   \n",
       "2           564778.0         2016.0               479489.0    6488.30   \n",
       "3           145143.0         2016.0                36225.0    1777.51   \n",
       "4           773303.0         2016.0               496619.0    9516.26   \n",
       "\n",
       "   censustractandblock  logerror  transactiondate        propertylandusedesc  \\\n",
       "0         6.059063e+13  0.025595       2017-01-01  Single Family Residential   \n",
       "1         6.111001e+13  0.055619       2017-01-01  Single Family Residential   \n",
       "2         6.059022e+13  0.005383       2017-01-01  Single Family Residential   \n",
       "3         6.037300e+13 -0.103410       2017-01-01  Single Family Residential   \n",
       "4         6.037461e+13 -0.001011       2017-01-01  Single Family Residential   \n",
       "\n",
       "    age  \n",
       "0  19.0  \n",
       "1  50.0  \n",
       "2  55.0  \n",
       "3  47.0  \n",
       "4  67.0  \n",
       "\n",
       "[5 rows x 30 columns]"
      ]
     },
     "execution_count": 14,
     "metadata": {},
     "output_type": "execute_result"
    }
   ],
   "source": [
    "#Replace the fips numbers with county names\n",
    "df['fips'].replace(county_dict, inplace=True)\n",
    "df.rename(columns={'fips': 'county'}, inplace=True)\n",
    "\n",
    "df.head()"
   ]
  },
  {
   "cell_type": "code",
   "execution_count": 15,
   "id": "667be056",
   "metadata": {},
   "outputs": [
    {
     "name": "stdout",
     "output_type": "stream",
     "text": [
      "Variance of logerror for LA County.\n",
      "0.028977388566434063\n",
      "Variance of logerror for Orange County.\n",
      "0.038899449176515576\n",
      "Variance of logerror for Ventura County.\n",
      "0.02443066451532004\n"
     ]
    },
    {
     "data": {
      "image/png": "[encoded data removed]",
      "text/plain": [
       "<Figure size 432x288 with 1 Axes>"
      ]
     },
     "metadata": {
      "needs_background": "light"
     },
     "output_type": "display_data"
    },
    {
     "data": {
      "image/png": "[encoded data removed]",
      "text/plain": [
       "<Figure size 432x288 with 1 Axes>"
      ]
     },
     "metadata": {
      "needs_background": "light"
     },
     "output_type": "display_data"
    },
    {
     "data": {
      "image/png": "[encoded data removed]",
      "text/plain": [
       "<Figure size 432x288 with 1 Axes>"
      ]
     },
     "metadata": {
      "needs_background": "light"
     },
     "output_type": "display_data"
    }
   ],
   "source": [
    "#Loop through my counties and plot the distribution of the target variable\n",
    "county_list = ['LA County', 'Orange County', 'Ventura County']\n",
    "\n",
    "for county in county_list:\n",
    "    print('Variance of logerror for {}.'.format(county))\n",
    "    print(df[df['county'] == county].logerror.var())\n",
    "    \n",
    "    plt.figure()\n",
    "    plt.title('Distribution of logerror for {}.'.format(county))\n",
    "    plt.hist(df[df['county'] == county].logerror, bins=25)"
   ]
  },
  {
   "cell_type": "code",
   "execution_count": 16,
   "id": "f24aa7ac",
   "metadata": {},
   "outputs": [
    {
     "data": {
      "text/plain": [
       "<AxesSubplot:xlabel='county', ylabel='logerror'>"
      ]
     },
     "execution_count": 16,
     "metadata": {},
     "output_type": "execute_result"
    },
    {
     "data": {
      "image/png": "[encoded data removed]",
      "text/plain": [
       "<Figure size 432x288 with 1 Axes>"
      ]
     },
     "metadata": {
      "needs_background": "light"
     },
     "output_type": "display_data"
    }
   ],
   "source": [
    "#Compare the average log error between counties\n",
    "sns.barplot(x='county', y='logerror', data=df)"
   ]
  },
  {
   "cell_type": "code",
   "execution_count": 17,
   "id": "17fa8367",
   "metadata": {},
   "outputs": [
    {
     "data": {
      "text/plain": [
       "(20.674626026175307, 1.05845063396356e-09)"
      ]
     },
     "execution_count": 17,
     "metadata": {},
     "output_type": "execute_result"
    }
   ],
   "source": [
    "#Conduct an ANOVA test between the counties\n",
    "f_county, p_county = stats.f_oneway(df[df['county'] == 'LA County'].logerror,\n",
    "                                    df[df['county'] == 'Orange County'].logerror,\n",
    "                                    df[df['county'] == 'Ventura County'].logerror)\n",
    "\n",
    "f_county, p_county"
   ]
  },
  {
   "cell_type": "code",
   "execution_count": 18,
   "id": "b5c378b3",
   "metadata": {},
   "outputs": [
    {
     "name": "stdout",
     "output_type": "stream",
     "text": [
      "We reject the null hypothesis.\n"
     ]
    }
   ],
   "source": [
    "#Compare my p value to alpha\n",
    "if p_county < alpha:\n",
    "    print('We reject the null hypothesis.')\n",
    "else:\n",
    "    print('We fail to reject the null hypothesis.')"
   ]
  },
  {
   "cell_type": "markdown",
   "id": "3ed0b62b",
   "metadata": {},
   "source": [
    "## Question 2\n",
    "\n",
    "What is driving the difference in log error between the counties? Maybe Orange County has homes of all ages, and that makes it difficult to correctly predict the price!\n",
    "\n",
    "Null hypothesis: The average age of homes in Orange County is the same as the overall age of homes in the dataset.  \n",
    "Alternative hypothesis: The average age of homes in Orange County is different from the overall mean of the dataset."
   ]
  },
  {
   "cell_type": "code",
   "execution_count": 19,
   "id": "0d365212",
   "metadata": {},
   "outputs": [
    {
     "data": {
      "text/plain": [
       "<AxesSubplot:xlabel='county', ylabel='age'>"
      ]
     },
     "execution_count": 19,
     "metadata": {},
     "output_type": "execute_result"
    },
    {
     "data": {
      "image/png": "[encoded data removed]",
      "text/plain": [
       "<Figure size 432x288 with 1 Axes>"
      ]
     },
     "metadata": {
      "needs_background": "light"
     },
     "output_type": "display_data"
    }
   ],
   "source": [
    "#The average age of houses in each county\n",
    "sns.barplot(x='county', y='age', data=df)"
   ]
  },
  {
   "cell_type": "code",
   "execution_count": 20,
   "id": "e7700922",
   "metadata": {},
   "outputs": [
    {
     "data": {
      "text/plain": [
       "<AxesSubplot:xlabel='county', ylabel='age'>"
      ]
     },
     "execution_count": 20,
     "metadata": {},
     "output_type": "execute_result"
    },
    {
     "data": {
      "image/png": "[encoded data removed]",
      "text/plain": [
       "<Figure size 432x288 with 1 Axes>"
      ]
     },
     "metadata": {
      "needs_background": "light"
     },
     "output_type": "display_data"
    }
   ],
   "source": [
    "#A better way to visualize the distribution of ages\n",
    "sns.boxplot(x='county', y='age', data=df)"
   ]
  },
  {
   "cell_type": "code",
   "execution_count": 21,
   "id": "0167297d",
   "metadata": {},
   "outputs": [
    {
     "name": "stdout",
     "output_type": "stream",
     "text": [
      "338.7026725384371\n",
      "533.6742353730897\n"
     ]
    }
   ],
   "source": [
    "print(df[df['county'] == 'Orange County'].age.var())\n",
    "print(df['age'].var())"
   ]
  },
  {
   "cell_type": "code",
   "execution_count": 22,
   "id": "579a13d4",
   "metadata": {},
   "outputs": [
    {
     "data": {
      "text/plain": [
       "(-70.26644244927961, 0.0)"
      ]
     },
     "execution_count": 22,
     "metadata": {},
     "output_type": "execute_result"
    }
   ],
   "source": [
    "#Test the average age of a home in Orange County against the overall mean\n",
    "t_age, p_age = stats.ttest_1samp(df[df['county'] == 'Orange County'].age,\n",
    "                                 df['age'].mean())\n",
    "\n",
    "t_age, p_age"
   ]
  },
  {
   "cell_type": "code",
   "execution_count": 23,
   "id": "b47bd26b",
   "metadata": {},
   "outputs": [
    {
     "name": "stdout",
     "output_type": "stream",
     "text": [
      "We reject the null hypothesis.\n"
     ]
    }
   ],
   "source": [
    "#Test my hypothesis\n",
    "if p_age < alpha:\n",
    "    print('We reject the null hypothesis.')\n",
    "else:\n",
    "    print('We fail to reject the null hypothesis.')"
   ]
  },
  {
   "cell_type": "code",
   "execution_count": 24,
   "id": "a68c98cb",
   "metadata": {},
   "outputs": [
    {
     "data": {
      "text/plain": [
       "(49.36188341360101, 0.0)"
      ]
     },
     "execution_count": 24,
     "metadata": {},
     "output_type": "execute_result"
    }
   ],
   "source": [
    "#Conduct the same test for LA County\n",
    "t_age2, p_age2 = stats.ttest_1samp(df[df['county'] == 'LA County'].age,\n",
    "                                 df['age'].mean())\n",
    "\n",
    "t_age2, p_age2"
   ]
  },
  {
   "cell_type": "markdown",
   "id": "47526ba2",
   "metadata": {},
   "source": [
    "## Question 3\n",
    "\n",
    "What else could be driving the greater log error in Orange County compared to the other counties? My next guess is home price.\n",
    "\n",
    "Null hypothesis: Home prices in Orange County are the same as the average home price for the dataset.  \n",
    "Alternative hypothesis: Home prices in Orange County are significantly different from the mean home price for the dataset."
   ]
  },
  {
   "cell_type": "code",
   "execution_count": 25,
   "id": "8e59c3cd",
   "metadata": {},
   "outputs": [
    {
     "data": {
      "text/plain": [
       "<AxesSubplot:xlabel='county', ylabel='taxvaluedollarcnt'>"
      ]
     },
     "execution_count": 25,
     "metadata": {},
     "output_type": "execute_result"
    },
    {
     "data": {
      "image/png": "[encoded data removed]",
      "text/plain": [
       "<Figure size 432x288 with 1 Axes>"
      ]
     },
     "metadata": {
      "needs_background": "light"
     },
     "output_type": "display_data"
    }
   ],
   "source": [
    "#Compare average home price between counties\n",
    "sns.barplot(x='county', y='taxvaluedollarcnt', data=df)"
   ]
  },
  {
   "cell_type": "code",
   "execution_count": 26,
   "id": "0816fc4b",
   "metadata": {},
   "outputs": [
    {
     "name": "stdout",
     "output_type": "stream",
     "text": [
      "381421216641.2816\n",
      "565230579374.5416\n"
     ]
    }
   ],
   "source": [
    "print(df[df['county'] == 'Orange County'].taxvaluedollarcnt.var())\n",
    "print(df['taxvaluedollarcnt'].var())"
   ]
  },
  {
   "cell_type": "code",
   "execution_count": 27,
   "id": "80da18dc",
   "metadata": {},
   "outputs": [
    {
     "data": {
      "text/plain": [
       "(14.327196653777044, 3.1219506170774424e-46)"
      ]
     },
     "execution_count": 27,
     "metadata": {},
     "output_type": "execute_result"
    }
   ],
   "source": [
    "#Compare the home price in Orange County to overall home price in the dataset\n",
    "t_price, p_price = stats.ttest_1samp(df[df['county'] == 'Orange County'].taxvaluedollarcnt,\n",
    "                                     df['taxvaluedollarcnt'].mean())\n",
    "\n",
    "t_price, p_price"
   ]
  },
  {
   "cell_type": "code",
   "execution_count": 28,
   "id": "db7455e1",
   "metadata": {},
   "outputs": [
    {
     "name": "stdout",
     "output_type": "stream",
     "text": [
      "We reject the null hypothesis.\n"
     ]
    }
   ],
   "source": [
    "#Test my hypothesis against alpha\n",
    "if p_price < alpha:\n",
    "    print('We reject the null hypothesis.')\n",
    "else:\n",
    "    print('We fail to reject the null hypothesis.')"
   ]
  },
  {
   "cell_type": "markdown",
   "id": "8d9a56ab",
   "metadata": {},
   "source": [
    "## Question 4\n",
    "\n",
    "Is there a correlation between the price of a home and its log error?\n",
    "\n",
    "Null hypothesis: There is no correlation between price and log error.  \n",
    "Alternative hypothesis: There is a relationship between price and log error."
   ]
  },
  {
   "cell_type": "code",
   "execution_count": 29,
   "id": "67be760d",
   "metadata": {},
   "outputs": [
    {
     "data": {
      "text/plain": [
       "<AxesSubplot:xlabel='taxvaluedollarcnt', ylabel='logerror'>"
      ]
     },
     "execution_count": 29,
     "metadata": {},
     "output_type": "execute_result"
    },
    {
     "data": {
      "image/png": "[encoded data removed]",
      "text/plain": [
       "<Figure size 432x288 with 1 Axes>"
      ]
     },
     "metadata": {
      "needs_background": "light"
     },
     "output_type": "display_data"
    }
   ],
   "source": [
    "#Scatterplot of logerror as a function of home price\n",
    "sns.scatterplot(x='taxvaluedollarcnt', y='logerror', data=df)"
   ]
  },
  {
   "cell_type": "code",
   "execution_count": 30,
   "id": "1ed45a7e",
   "metadata": {},
   "outputs": [
    {
     "data": {
      "text/plain": [
       "(-0.002050238419744846, 0.6391136165197276)"
      ]
     },
     "execution_count": 30,
     "metadata": {},
     "output_type": "execute_result"
    }
   ],
   "source": [
    "#Test for correlation between the two\n",
    "corr_value, p_value = stats.pearsonr(df['taxvaluedollarcnt'],\n",
    "                                     df['logerror'])\n",
    "\n",
    "corr_value, p_value"
   ]
  },
  {
   "cell_type": "code",
   "execution_count": 31,
   "id": "a1972a06",
   "metadata": {},
   "outputs": [
    {
     "name": "stdout",
     "output_type": "stream",
     "text": [
      "We fail to reject the null hypothesis.\n"
     ]
    }
   ],
   "source": [
    "#Test my hypothesis\n",
    "if p_value < alpha:\n",
    "    print('We reject the null hypothesis.')\n",
    "else:\n",
    "    print('We fail to reject the null hypothesis.')"
   ]
  },
  {
   "cell_type": "markdown",
   "id": "0212a720",
   "metadata": {},
   "source": [
    "## Question 5\n",
    "\n",
    "Is there a significant difference in log error between lower value homes (1 million and under) and higher value homes (greater than 1 million)?\n",
    "\n",
    "Null hypothesis: There will be no difference in average log error between these two groups.  \n",
    "Alternative hypothesis: There will be a difference in average log error between the two groups."
   ]
  },
  {
   "cell_type": "code",
   "execution_count": 32,
   "id": "f379727c",
   "metadata": {},
   "outputs": [
    {
     "data": {
      "text/plain": [
       "<AxesSubplot:xlabel='taxvaluedollarcnt', ylabel='logerror'>"
      ]
     },
     "execution_count": 32,
     "metadata": {},
     "output_type": "execute_result"
    },
    {
     "data": {
      "image/png": "[encoded data removed]",
      "text/plain": [
       "<Figure size 1152x576 with 2 Axes>"
      ]
     },
     "metadata": {
      "needs_background": "light"
     },
     "output_type": "display_data"
    }
   ],
   "source": [
    "#Plot the subsets of my data based on home price\n",
    "plt.figure(figsize=(16, 8))\n",
    "plt.subplot(121)\n",
    "sns.scatterplot(x='taxvaluedollarcnt', y='logerror',\n",
    "                data=df[df['taxvaluedollarcnt'] < 1_000_000])\n",
    "\n",
    "plt.subplot(122)\n",
    "sns.scatterplot(x='taxvaluedollarcnt', y='logerror',\n",
    "                data=df[df['taxvaluedollarcnt'] >= 1_000_000])"
   ]
  },
  {
   "cell_type": "code",
   "execution_count": 33,
   "id": "b56905db",
   "metadata": {},
   "outputs": [
    {
     "name": "stdout",
     "output_type": "stream",
     "text": [
      "0.028291312199606296\n",
      "0.0575284522101925\n"
     ]
    }
   ],
   "source": [
    "#Check for equal variance between subsets\n",
    "print(df[df['taxvaluedollarcnt'] < 1_000_000].logerror.var())\n",
    "print(df[df['taxvaluedollarcnt'] >= 1_000_000].logerror.var())"
   ]
  },
  {
   "cell_type": "code",
   "execution_count": 34,
   "id": "616c1a90",
   "metadata": {},
   "outputs": [
    {
     "data": {
      "text/plain": [
       "(-2.057571103503128, 0.039636267155044834)"
      ]
     },
     "execution_count": 34,
     "metadata": {},
     "output_type": "execute_result"
    }
   ],
   "source": [
    "#Run the t-test\n",
    "t_value, p_value2 = stats.ttest_ind(df[df['taxvaluedollarcnt'] < 1_000_000].logerror,\n",
    "                                    df[df['taxvaluedollarcnt'] >= 1_000_000].logerror)\n",
    "\n",
    "t_value, p_value2"
   ]
  },
  {
   "cell_type": "code",
   "execution_count": 35,
   "id": "3764d3fc",
   "metadata": {},
   "outputs": [
    {
     "name": "stdout",
     "output_type": "stream",
     "text": [
      "We reject the null hypothesis.\n"
     ]
    }
   ],
   "source": [
    "#Test my hypothesis\n",
    "if p_value2 < alpha:\n",
    "    print('We reject the null hypothesis.')\n",
    "else:\n",
    "    print('We fail to reject the null hypothesis.')"
   ]
  },
  {
   "cell_type": "code",
   "execution_count": null,
   "id": "72ea6887",
   "metadata": {},
   "outputs": [],
   "source": []
  }
 ],
 "metadata": {
  "kernelspec": {
   "display_name": "Python 3 (ipykernel)",
   "language": "python",
   "name": "python3"
  },
  "language_info": {
   "codemirror_mode": {
    "name": "ipython",
    "version": 3
   },
   "file_extension": ".py",
   "mimetype": "text/x-python",
   "name": "python",
   "nbconvert_exporter": "python",
   "pygments_lexer": "ipython3",
   "version": "3.9.12"
  }
 },
 "nbformat": 4,
 "nbformat_minor": 5
}
