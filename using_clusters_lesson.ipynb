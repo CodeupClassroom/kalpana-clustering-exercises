{
 "cells": [
  {
   "cell_type": "markdown",
   "id": "e336722c",
   "metadata": {},
   "source": [
    "# Ok, I have clusters... Now what?\n",
    "\n",
    "> \"The difference between a goat rodeo and making clusters is *using your clusters for deeper insight.*\" - Ryan Orsinger\n",
    "\n",
    "## Clusters are about providing options and insight\n",
    "- **Step 1:** Explore each cluster. \n",
    "    - Look at the relationship of cluster identity to your target variable if you have one (statistical testing, bivariate visualization)\n",
    "    - Look at the relationship of cluster identity to other variables (statistical testing, trivariate visualizations...think `relplot`)\n",
    "- **Step 2:** Name your clusters (if it makes sense to do so). Provide a verbal description of your clusters to help stakeholders understand.\n",
    "---\n",
    "Additional Uses:\n",
    "\n",
    "- **Option 1:** Dimensionality reduction. Some features with high degrees of correlation can be combined into clusters. \n",
    "- **Option 2:** Treat cluster names as a new target variable. As new data comes in, label that data with your clustering model as the first step of a greater process (customer segmentation, workflow, etc.)\n",
    "- **Option 3:** Use clustering as the stepping point to developing new questions you wouldn't know to ask until the data was clustered. Perform a deep EDA. \n",
    "- **Option 4:** Rather than feed your clusters as a feature of another model, take a \"many models\" approach and create multiple models that are uniquely tuned to one cluster subset at a time."
   ]
  },
  {
   "cell_type": "code",
   "execution_count": 1,
   "id": "8d71880c",
   "metadata": {},
   "outputs": [],
   "source": [
    "import pandas as pd\n",
    "import numpy as np\n",
    "import seaborn as sns\n",
    "import matplotlib.pyplot as plt\n",
    "\n",
    "from sklearn.model_selection import train_test_split\n",
    "from sklearn.preprocessing import MinMaxScaler\n",
    "from sklearn.cluster import KMeans\n",
    "\n",
    "from scipy import stats"
   ]
  },
  {
   "cell_type": "markdown",
   "id": "d191afae",
   "metadata": {},
   "source": [
    "### Acquire"
   ]
  },
  {
   "cell_type": "code",
   "execution_count": 2,
   "id": "0f24e6b7",
   "metadata": {},
   "outputs": [
    {
     "data": {
      "text/html": [
       "<div>\n",
       "<style scoped>\n",
       "    .dataframe tbody tr th:only-of-type {\n",
       "        vertical-align: middle;\n",
       "    }\n",
       "\n",
       "    .dataframe tbody tr th {\n",
       "        vertical-align: top;\n",
       "    }\n",
       "\n",
       "    .dataframe thead th {\n",
       "        text-align: right;\n",
       "    }\n",
       "</style>\n",
       "<table border=\"1\" class=\"dataframe\">\n",
       "  <thead>\n",
       "    <tr style=\"text-align: right;\">\n",
       "      <th></th>\n",
       "      <th>gender</th>\n",
       "      <th>age</th>\n",
       "      <th>annual_income</th>\n",
       "      <th>spending_score</th>\n",
       "    </tr>\n",
       "    <tr>\n",
       "      <th>customer_id</th>\n",
       "      <th></th>\n",
       "      <th></th>\n",
       "      <th></th>\n",
       "      <th></th>\n",
       "    </tr>\n",
       "  </thead>\n",
       "  <tbody>\n",
       "    <tr>\n",
       "      <th>1</th>\n",
       "      <td>Male</td>\n",
       "      <td>19</td>\n",
       "      <td>15</td>\n",
       "      <td>39</td>\n",
       "    </tr>\n",
       "    <tr>\n",
       "      <th>2</th>\n",
       "      <td>Male</td>\n",
       "      <td>21</td>\n",
       "      <td>15</td>\n",
       "      <td>81</td>\n",
       "    </tr>\n",
       "    <tr>\n",
       "      <th>3</th>\n",
       "      <td>Female</td>\n",
       "      <td>20</td>\n",
       "      <td>16</td>\n",
       "      <td>6</td>\n",
       "    </tr>\n",
       "    <tr>\n",
       "      <th>4</th>\n",
       "      <td>Female</td>\n",
       "      <td>23</td>\n",
       "      <td>16</td>\n",
       "      <td>77</td>\n",
       "    </tr>\n",
       "    <tr>\n",
       "      <th>5</th>\n",
       "      <td>Female</td>\n",
       "      <td>31</td>\n",
       "      <td>17</td>\n",
       "      <td>40</td>\n",
       "    </tr>\n",
       "  </tbody>\n",
       "</table>\n",
       "</div>"
      ],
      "text/plain": [
       "             gender  age  annual_income  spending_score\n",
       "customer_id                                            \n",
       "1              Male   19             15              39\n",
       "2              Male   21             15              81\n",
       "3            Female   20             16               6\n",
       "4            Female   23             16              77\n",
       "5            Female   31             17              40"
      ]
     },
     "execution_count": 2,
     "metadata": {},
     "output_type": "execute_result"
    }
   ],
   "source": [
    "# csv contains mall data\n",
    "df = pd.read_csv('https://gist.githubusercontent.com/ryanorsinger/cc276eea59e8295204d1f581c8da509f/raw/2388559aef7a0700eb31e7604351364b16e99653/mall_customers.csv', index_col=\"customer_id\")\n",
    "df.head()"
   ]
  },
  {
   "cell_type": "markdown",
   "id": "4f03775a",
   "metadata": {},
   "source": [
    "### Prepare\n",
    "- We are going to make some clusters, and prior exploration revealed that `gender` was not particularly insightful for this process. So we will drop `gender`."
   ]
  },
  {
   "cell_type": "code",
   "execution_count": 3,
   "id": "f7c354f8",
   "metadata": {},
   "outputs": [],
   "source": [
    "df = df.drop(columns='gender')"
   ]
  },
  {
   "cell_type": "markdown",
   "id": "1b78c84d",
   "metadata": {},
   "source": [
    "For the purposes of the demo, I'm pretending that my df is my train dataset since I have so few observations"
   ]
  },
  {
   "cell_type": "code",
   "execution_count": 4,
   "id": "a8683fc7",
   "metadata": {},
   "outputs": [],
   "source": [
    "train = df"
   ]
  },
  {
   "cell_type": "markdown",
   "id": "81e94569",
   "metadata": {},
   "source": [
    "Scale features:"
   ]
  },
  {
   "cell_type": "code",
   "execution_count": 5,
   "id": "eb3b51b0",
   "metadata": {},
   "outputs": [],
   "source": [
    "# make the thing\n",
    "scaler = MinMaxScaler()\n",
    "\n",
    "# fit the thing on train\n",
    "scaler.fit(train)\n",
    "\n",
    "# use the thing (scale train)\n",
    "train_scaled = scaler.transform(train)\n",
    "\n",
    "# turn the scaled array into a dataframe\n",
    "train_scaled = pd.DataFrame(train_scaled, columns=train.columns, index=train.index)"
   ]
  },
  {
   "cell_type": "markdown",
   "id": "8c676cb3",
   "metadata": {},
   "source": [
    "If we also had validate and test datasets, I would have run the following lines of code to scale the data I have in validate and test.\n",
    "\n",
    "```python\n",
    "validate_scaled = scaler.transform(validate) \n",
    "test_scaled = scaler.transform(test) \n",
    "```\n",
    "\n",
    "And I could turn those arrays into dataframes as well:\n",
    "\n",
    "```python\n",
    "validate_scaled = pd.DataFrame(train_scaled, columns=validate.columns) \n",
    "test_scaled = pd.DataFrame(train_scaled, columns=test.columns)\n",
    "```"
   ]
  },
  {
   "cell_type": "code",
   "execution_count": 6,
   "id": "df81afdb",
   "metadata": {},
   "outputs": [
    {
     "data": {
      "text/html": [
       "<div>\n",
       "<style scoped>\n",
       "    .dataframe tbody tr th:only-of-type {\n",
       "        vertical-align: middle;\n",
       "    }\n",
       "\n",
       "    .dataframe tbody tr th {\n",
       "        vertical-align: top;\n",
       "    }\n",
       "\n",
       "    .dataframe thead th {\n",
       "        text-align: right;\n",
       "    }\n",
       "</style>\n",
       "<table border=\"1\" class=\"dataframe\">\n",
       "  <thead>\n",
       "    <tr style=\"text-align: right;\">\n",
       "      <th></th>\n",
       "      <th>age</th>\n",
       "      <th>annual_income</th>\n",
       "      <th>spending_score</th>\n",
       "    </tr>\n",
       "    <tr>\n",
       "      <th>customer_id</th>\n",
       "      <th></th>\n",
       "      <th></th>\n",
       "      <th></th>\n",
       "    </tr>\n",
       "  </thead>\n",
       "  <tbody>\n",
       "    <tr>\n",
       "      <th>1</th>\n",
       "      <td>0.019231</td>\n",
       "      <td>0.000000</td>\n",
       "      <td>0.387755</td>\n",
       "    </tr>\n",
       "    <tr>\n",
       "      <th>2</th>\n",
       "      <td>0.057692</td>\n",
       "      <td>0.000000</td>\n",
       "      <td>0.816327</td>\n",
       "    </tr>\n",
       "    <tr>\n",
       "      <th>3</th>\n",
       "      <td>0.038462</td>\n",
       "      <td>0.008197</td>\n",
       "      <td>0.051020</td>\n",
       "    </tr>\n",
       "    <tr>\n",
       "      <th>4</th>\n",
       "      <td>0.096154</td>\n",
       "      <td>0.008197</td>\n",
       "      <td>0.775510</td>\n",
       "    </tr>\n",
       "    <tr>\n",
       "      <th>5</th>\n",
       "      <td>0.250000</td>\n",
       "      <td>0.016393</td>\n",
       "      <td>0.397959</td>\n",
       "    </tr>\n",
       "  </tbody>\n",
       "</table>\n",
       "</div>"
      ],
      "text/plain": [
       "                  age  annual_income  spending_score\n",
       "customer_id                                         \n",
       "1            0.019231       0.000000        0.387755\n",
       "2            0.057692       0.000000        0.816327\n",
       "3            0.038462       0.008197        0.051020\n",
       "4            0.096154       0.008197        0.775510\n",
       "5            0.250000       0.016393        0.397959"
      ]
     },
     "execution_count": 6,
     "metadata": {},
     "output_type": "execute_result"
    }
   ],
   "source": [
    "train_scaled.head()"
   ]
  },
  {
   "cell_type": "markdown",
   "id": "bb9462e9",
   "metadata": {},
   "source": [
    "We saw 5 clusters in our exploration of the data. Let's visualize an elbow method to see if inertia values supports our hunch that there are 5 clear groups."
   ]
  },
  {
   "cell_type": "code",
   "execution_count": 7,
   "id": "c30d430b",
   "metadata": {},
   "outputs": [
    {
     "data": {
      "image/png": "[encoded data removed]",
      "text/plain": [
       "<Figure size 648x432 with 1 Axes>"
      ]
     },
     "metadata": {},
     "output_type": "display_data"
    }
   ],
   "source": [
    "# lets plot inertia vs k\n",
    "\n",
    "with plt.style.context('seaborn-whitegrid'):\n",
    "    plt.figure(figsize=(9, 6))\n",
    "    pd.Series({k: KMeans(k, random_state=42).fit(train_scaled).inertia_ for k in range(2, 12)}).plot(marker='x')\n",
    "    plt.xticks(range(2, 12))\n",
    "    plt.xlabel('k')\n",
    "    plt.ylabel('inertia')\n",
    "    plt.title('Change in inertia as k increases')"
   ]
  },
  {
   "cell_type": "code",
   "execution_count": 8,
   "id": "ddffc422",
   "metadata": {},
   "outputs": [
    {
     "data": {
      "text/html": [
       "<div>\n",
       "<style scoped>\n",
       "    .dataframe tbody tr th:only-of-type {\n",
       "        vertical-align: middle;\n",
       "    }\n",
       "\n",
       "    .dataframe tbody tr th {\n",
       "        vertical-align: top;\n",
       "    }\n",
       "\n",
       "    .dataframe thead th {\n",
       "        text-align: right;\n",
       "    }\n",
       "</style>\n",
       "<table border=\"1\" class=\"dataframe\">\n",
       "  <thead>\n",
       "    <tr style=\"text-align: right;\">\n",
       "      <th></th>\n",
       "      <th>age</th>\n",
       "      <th>annual_income</th>\n",
       "      <th>spending_score</th>\n",
       "      <th>cluster</th>\n",
       "    </tr>\n",
       "    <tr>\n",
       "      <th>customer_id</th>\n",
       "      <th></th>\n",
       "      <th></th>\n",
       "      <th></th>\n",
       "      <th></th>\n",
       "    </tr>\n",
       "  </thead>\n",
       "  <tbody>\n",
       "    <tr>\n",
       "      <th>1</th>\n",
       "      <td>0.019231</td>\n",
       "      <td>0.000000</td>\n",
       "      <td>0.387755</td>\n",
       "      <td>2</td>\n",
       "    </tr>\n",
       "    <tr>\n",
       "      <th>2</th>\n",
       "      <td>0.057692</td>\n",
       "      <td>0.000000</td>\n",
       "      <td>0.816327</td>\n",
       "      <td>4</td>\n",
       "    </tr>\n",
       "    <tr>\n",
       "      <th>3</th>\n",
       "      <td>0.038462</td>\n",
       "      <td>0.008197</td>\n",
       "      <td>0.051020</td>\n",
       "      <td>2</td>\n",
       "    </tr>\n",
       "    <tr>\n",
       "      <th>4</th>\n",
       "      <td>0.096154</td>\n",
       "      <td>0.008197</td>\n",
       "      <td>0.775510</td>\n",
       "      <td>4</td>\n",
       "    </tr>\n",
       "    <tr>\n",
       "      <th>5</th>\n",
       "      <td>0.250000</td>\n",
       "      <td>0.016393</td>\n",
       "      <td>0.397959</td>\n",
       "      <td>2</td>\n",
       "    </tr>\n",
       "  </tbody>\n",
       "</table>\n",
       "</div>"
      ],
      "text/plain": [
       "                  age  annual_income  spending_score  cluster\n",
       "customer_id                                                  \n",
       "1            0.019231       0.000000        0.387755        2\n",
       "2            0.057692       0.000000        0.816327        4\n",
       "3            0.038462       0.008197        0.051020        2\n",
       "4            0.096154       0.008197        0.775510        4\n",
       "5            0.250000       0.016393        0.397959        2"
      ]
     },
     "execution_count": 8,
     "metadata": {},
     "output_type": "execute_result"
    }
   ],
   "source": [
    "# Let's move forward with k=5\n",
    "kmeans = KMeans(n_clusters = 5, random_state=42)\n",
    "kmeans.fit(train_scaled)\n",
    "\n",
    "# And assign the cluster number to a column on the dataframe\n",
    "train_scaled[\"cluster\"] = kmeans.predict(train_scaled)\n",
    "train_scaled.head()"
   ]
  },
  {
   "cell_type": "code",
   "execution_count": 9,
   "id": "6b1e7ffd",
   "metadata": {},
   "outputs": [
    {
     "data": {
      "text/plain": [
       "0    58\n",
       "2    49\n",
       "1    40\n",
       "3    30\n",
       "4    23\n",
       "Name: cluster, dtype: int64"
      ]
     },
     "execution_count": 9,
     "metadata": {},
     "output_type": "execute_result"
    }
   ],
   "source": [
    "train_scaled.cluster.value_counts()"
   ]
  },
  {
   "cell_type": "markdown",
   "id": "28e33b1d",
   "metadata": {},
   "source": [
    "### So we have clusters. What are our options?\n",
    "- Step 1: Explore\n",
    "- Step 2: Name\n",
    "\n",
    "\n",
    "- Option 1: Simplify variables\n",
    "- Option 2: Use model and cluster names to classify new observations\n",
    "- Option 3: Deeper EDA\n",
    "- Option 4: Take a \"many models\" approach\n",
    "\n",
    "### Step 1: Explore each cluster to see how they are similar or different\n",
    "- Visualizations\n",
    "- Statistical tests\n",
    "\n",
    "> \"Take the time to get to know each cluster\" - Ryan Orsinger"
   ]
  },
  {
   "cell_type": "code",
   "execution_count": 11,
   "id": "b448e62e",
   "metadata": {},
   "outputs": [
    {
     "data": {
      "text/plain": [
       "<seaborn.axisgrid.FacetGrid at 0x7fe4ba8f0340>"
      ]
     },
     "execution_count": 11,
     "metadata": {},
     "output_type": "execute_result"
    },
    {
     "data": {
      "image/png": "[encoded data removed]",
      "text/plain": [
       "<Figure size 772x1080 with 5 Axes>"
      ]
     },
     "metadata": {
      "needs_background": "light"
     },
     "output_type": "display_data"
    }
   ],
   "source": [
    "# plot out income vs. spending with regard to the cluster and age\n",
    "sns.relplot(data=train_scaled, x=\"annual_income\", y=\"spending_score\", col=\"cluster\", hue=\"age\", col_wrap=2)"
   ]
  },
  {
   "cell_type": "code",
   "execution_count": 12,
   "id": "5c13d5a0",
   "metadata": {},
   "outputs": [
    {
     "data": {
      "text/html": [
       "<div>\n",
       "<style scoped>\n",
       "    .dataframe tbody tr th:only-of-type {\n",
       "        vertical-align: middle;\n",
       "    }\n",
       "\n",
       "    .dataframe tbody tr th {\n",
       "        vertical-align: top;\n",
       "    }\n",
       "\n",
       "    .dataframe thead th {\n",
       "        text-align: right;\n",
       "    }\n",
       "</style>\n",
       "<table border=\"1\" class=\"dataframe\">\n",
       "  <thead>\n",
       "    <tr style=\"text-align: right;\">\n",
       "      <th></th>\n",
       "      <th>age</th>\n",
       "      <th>annual_income</th>\n",
       "      <th>spending_score</th>\n",
       "    </tr>\n",
       "    <tr>\n",
       "      <th>cluster</th>\n",
       "      <th></th>\n",
       "      <th></th>\n",
       "      <th></th>\n",
       "    </tr>\n",
       "  </thead>\n",
       "  <tbody>\n",
       "    <tr>\n",
       "      <th>0</th>\n",
       "      <td>0.722149</td>\n",
       "      <td>0.274449</td>\n",
       "      <td>0.416080</td>\n",
       "    </tr>\n",
       "    <tr>\n",
       "      <th>1</th>\n",
       "      <td>0.286058</td>\n",
       "      <td>0.582787</td>\n",
       "      <td>0.821684</td>\n",
       "    </tr>\n",
       "    <tr>\n",
       "      <th>2</th>\n",
       "      <td>0.174254</td>\n",
       "      <td>0.303111</td>\n",
       "      <td>0.408580</td>\n",
       "    </tr>\n",
       "    <tr>\n",
       "      <th>3</th>\n",
       "      <td>0.500000</td>\n",
       "      <td>0.615847</td>\n",
       "      <td>0.172789</td>\n",
       "    </tr>\n",
       "    <tr>\n",
       "      <th>4</th>\n",
       "      <td>0.144649</td>\n",
       "      <td>0.092659</td>\n",
       "      <td>0.791482</td>\n",
       "    </tr>\n",
       "  </tbody>\n",
       "</table>\n",
       "</div>"
      ],
      "text/plain": [
       "              age  annual_income  spending_score\n",
       "cluster                                         \n",
       "0        0.722149       0.274449        0.416080\n",
       "1        0.286058       0.582787        0.821684\n",
       "2        0.174254       0.303111        0.408580\n",
       "3        0.500000       0.615847        0.172789\n",
       "4        0.144649       0.092659        0.791482"
      ]
     },
     "execution_count": 12,
     "metadata": {},
     "output_type": "execute_result"
    }
   ],
   "source": [
    "train_scaled.groupby(\"cluster\").mean()"
   ]
  },
  {
   "cell_type": "code",
   "execution_count": 13,
   "id": "4450c43b",
   "metadata": {},
   "outputs": [
    {
     "data": {
      "text/html": [
       "<div>\n",
       "<style scoped>\n",
       "    .dataframe tbody tr th:only-of-type {\n",
       "        vertical-align: middle;\n",
       "    }\n",
       "\n",
       "    .dataframe tbody tr th {\n",
       "        vertical-align: top;\n",
       "    }\n",
       "\n",
       "    .dataframe thead th {\n",
       "        text-align: right;\n",
       "    }\n",
       "</style>\n",
       "<table border=\"1\" class=\"dataframe\">\n",
       "  <thead>\n",
       "    <tr style=\"text-align: right;\">\n",
       "      <th></th>\n",
       "      <th>age</th>\n",
       "      <th>annual_income</th>\n",
       "      <th>spending_score</th>\n",
       "    </tr>\n",
       "    <tr>\n",
       "      <th>cluster</th>\n",
       "      <th></th>\n",
       "      <th></th>\n",
       "      <th></th>\n",
       "    </tr>\n",
       "  </thead>\n",
       "  <tbody>\n",
       "    <tr>\n",
       "      <th>0</th>\n",
       "      <td>0.461538</td>\n",
       "      <td>0.032787</td>\n",
       "      <td>0.020408</td>\n",
       "    </tr>\n",
       "    <tr>\n",
       "      <th>1</th>\n",
       "      <td>0.173077</td>\n",
       "      <td>0.442623</td>\n",
       "      <td>0.581633</td>\n",
       "    </tr>\n",
       "    <tr>\n",
       "      <th>2</th>\n",
       "      <td>0.000000</td>\n",
       "      <td>0.000000</td>\n",
       "      <td>0.040816</td>\n",
       "    </tr>\n",
       "    <tr>\n",
       "      <th>3</th>\n",
       "      <td>0.269231</td>\n",
       "      <td>0.459016</td>\n",
       "      <td>0.000000</td>\n",
       "    </tr>\n",
       "    <tr>\n",
       "      <th>4</th>\n",
       "      <td>0.000000</td>\n",
       "      <td>0.000000</td>\n",
       "      <td>0.612245</td>\n",
       "    </tr>\n",
       "  </tbody>\n",
       "</table>\n",
       "</div>"
      ],
      "text/plain": [
       "              age  annual_income  spending_score\n",
       "cluster                                         \n",
       "0        0.461538       0.032787        0.020408\n",
       "1        0.173077       0.442623        0.581633\n",
       "2        0.000000       0.000000        0.040816\n",
       "3        0.269231       0.459016        0.000000\n",
       "4        0.000000       0.000000        0.612245"
      ]
     },
     "execution_count": 13,
     "metadata": {},
     "output_type": "execute_result"
    }
   ],
   "source": [
    "train_scaled.groupby(\"cluster\").min()"
   ]
  },
  {
   "cell_type": "code",
   "execution_count": 14,
   "id": "dc14a892",
   "metadata": {},
   "outputs": [
    {
     "data": {
      "text/html": [
       "<div>\n",
       "<style scoped>\n",
       "    .dataframe tbody tr th:only-of-type {\n",
       "        vertical-align: middle;\n",
       "    }\n",
       "\n",
       "    .dataframe tbody tr th {\n",
       "        vertical-align: top;\n",
       "    }\n",
       "\n",
       "    .dataframe thead th {\n",
       "        text-align: right;\n",
       "    }\n",
       "</style>\n",
       "<table border=\"1\" class=\"dataframe\">\n",
       "  <thead>\n",
       "    <tr style=\"text-align: right;\">\n",
       "      <th></th>\n",
       "      <th>age</th>\n",
       "      <th>annual_income</th>\n",
       "      <th>spending_score</th>\n",
       "    </tr>\n",
       "    <tr>\n",
       "      <th>cluster</th>\n",
       "      <th></th>\n",
       "      <th></th>\n",
       "      <th></th>\n",
       "    </tr>\n",
       "  </thead>\n",
       "  <tbody>\n",
       "    <tr>\n",
       "      <th>0</th>\n",
       "      <td>1.000000</td>\n",
       "      <td>0.524590</td>\n",
       "      <td>0.602041</td>\n",
       "    </tr>\n",
       "    <tr>\n",
       "      <th>1</th>\n",
       "      <td>0.423077</td>\n",
       "      <td>1.000000</td>\n",
       "      <td>0.979592</td>\n",
       "    </tr>\n",
       "    <tr>\n",
       "      <th>2</th>\n",
       "      <td>0.423077</td>\n",
       "      <td>0.540984</td>\n",
       "      <td>0.602041</td>\n",
       "    </tr>\n",
       "    <tr>\n",
       "      <th>3</th>\n",
       "      <td>0.788462</td>\n",
       "      <td>1.000000</td>\n",
       "      <td>0.387755</td>\n",
       "    </tr>\n",
       "    <tr>\n",
       "      <th>4</th>\n",
       "      <td>0.326923</td>\n",
       "      <td>0.196721</td>\n",
       "      <td>1.000000</td>\n",
       "    </tr>\n",
       "  </tbody>\n",
       "</table>\n",
       "</div>"
      ],
      "text/plain": [
       "              age  annual_income  spending_score\n",
       "cluster                                         \n",
       "0        1.000000       0.524590        0.602041\n",
       "1        0.423077       1.000000        0.979592\n",
       "2        0.423077       0.540984        0.602041\n",
       "3        0.788462       1.000000        0.387755\n",
       "4        0.326923       0.196721        1.000000"
      ]
     },
     "execution_count": 14,
     "metadata": {},
     "output_type": "execute_result"
    }
   ],
   "source": [
    "train_scaled.groupby(\"cluster\").max()"
   ]
  },
  {
   "cell_type": "code",
   "execution_count": 15,
   "id": "da8cda4e",
   "metadata": {},
   "outputs": [
    {
     "data": {
      "text/html": [
       "<div>\n",
       "<style scoped>\n",
       "    .dataframe tbody tr th:only-of-type {\n",
       "        vertical-align: middle;\n",
       "    }\n",
       "\n",
       "    .dataframe tbody tr th {\n",
       "        vertical-align: top;\n",
       "    }\n",
       "\n",
       "    .dataframe thead tr th {\n",
       "        text-align: left;\n",
       "    }\n",
       "\n",
       "    .dataframe thead tr:last-of-type th {\n",
       "        text-align: right;\n",
       "    }\n",
       "</style>\n",
       "<table border=\"1\" class=\"dataframe\">\n",
       "  <thead>\n",
       "    <tr>\n",
       "      <th></th>\n",
       "      <th colspan=\"3\" halign=\"left\">age</th>\n",
       "      <th colspan=\"3\" halign=\"left\">annual_income</th>\n",
       "      <th colspan=\"3\" halign=\"left\">spending_score</th>\n",
       "    </tr>\n",
       "    <tr>\n",
       "      <th></th>\n",
       "      <th>mean</th>\n",
       "      <th>max</th>\n",
       "      <th>min</th>\n",
       "      <th>mean</th>\n",
       "      <th>max</th>\n",
       "      <th>min</th>\n",
       "      <th>mean</th>\n",
       "      <th>max</th>\n",
       "      <th>min</th>\n",
       "    </tr>\n",
       "    <tr>\n",
       "      <th>cluster</th>\n",
       "      <th></th>\n",
       "      <th></th>\n",
       "      <th></th>\n",
       "      <th></th>\n",
       "      <th></th>\n",
       "      <th></th>\n",
       "      <th></th>\n",
       "      <th></th>\n",
       "      <th></th>\n",
       "    </tr>\n",
       "  </thead>\n",
       "  <tbody>\n",
       "    <tr>\n",
       "      <th>0</th>\n",
       "      <td>0.722149</td>\n",
       "      <td>1.000000</td>\n",
       "      <td>0.461538</td>\n",
       "      <td>0.274449</td>\n",
       "      <td>0.524590</td>\n",
       "      <td>0.032787</td>\n",
       "      <td>0.416080</td>\n",
       "      <td>0.602041</td>\n",
       "      <td>0.020408</td>\n",
       "    </tr>\n",
       "    <tr>\n",
       "      <th>1</th>\n",
       "      <td>0.286058</td>\n",
       "      <td>0.423077</td>\n",
       "      <td>0.173077</td>\n",
       "      <td>0.582787</td>\n",
       "      <td>1.000000</td>\n",
       "      <td>0.442623</td>\n",
       "      <td>0.821684</td>\n",
       "      <td>0.979592</td>\n",
       "      <td>0.581633</td>\n",
       "    </tr>\n",
       "    <tr>\n",
       "      <th>2</th>\n",
       "      <td>0.174254</td>\n",
       "      <td>0.423077</td>\n",
       "      <td>0.000000</td>\n",
       "      <td>0.303111</td>\n",
       "      <td>0.540984</td>\n",
       "      <td>0.000000</td>\n",
       "      <td>0.408580</td>\n",
       "      <td>0.602041</td>\n",
       "      <td>0.040816</td>\n",
       "    </tr>\n",
       "    <tr>\n",
       "      <th>3</th>\n",
       "      <td>0.500000</td>\n",
       "      <td>0.788462</td>\n",
       "      <td>0.269231</td>\n",
       "      <td>0.615847</td>\n",
       "      <td>1.000000</td>\n",
       "      <td>0.459016</td>\n",
       "      <td>0.172789</td>\n",
       "      <td>0.387755</td>\n",
       "      <td>0.000000</td>\n",
       "    </tr>\n",
       "    <tr>\n",
       "      <th>4</th>\n",
       "      <td>0.144649</td>\n",
       "      <td>0.326923</td>\n",
       "      <td>0.000000</td>\n",
       "      <td>0.092659</td>\n",
       "      <td>0.196721</td>\n",
       "      <td>0.000000</td>\n",
       "      <td>0.791482</td>\n",
       "      <td>1.000000</td>\n",
       "      <td>0.612245</td>\n",
       "    </tr>\n",
       "  </tbody>\n",
       "</table>\n",
       "</div>"
      ],
      "text/plain": [
       "              age                     annual_income                      \\\n",
       "             mean       max       min          mean       max       min   \n",
       "cluster                                                                   \n",
       "0        0.722149  1.000000  0.461538      0.274449  0.524590  0.032787   \n",
       "1        0.286058  0.423077  0.173077      0.582787  1.000000  0.442623   \n",
       "2        0.174254  0.423077  0.000000      0.303111  0.540984  0.000000   \n",
       "3        0.500000  0.788462  0.269231      0.615847  1.000000  0.459016   \n",
       "4        0.144649  0.326923  0.000000      0.092659  0.196721  0.000000   \n",
       "\n",
       "        spending_score                      \n",
       "                  mean       max       min  \n",
       "cluster                                     \n",
       "0             0.416080  0.602041  0.020408  \n",
       "1             0.821684  0.979592  0.581633  \n",
       "2             0.408580  0.602041  0.040816  \n",
       "3             0.172789  0.387755  0.000000  \n",
       "4             0.791482  1.000000  0.612245  "
      ]
     },
     "execution_count": 15,
     "metadata": {},
     "output_type": "execute_result"
    }
   ],
   "source": [
    "train_scaled.groupby(\"cluster\").agg(['mean', 'max', 'min'])"
   ]
  },
  {
   "cell_type": "markdown",
   "id": "513788c4",
   "metadata": {},
   "source": [
    "Run a statistical test to answer a question:\n",
    "\n",
    "$H_0$: There is no difference in spending score between cluster 0 and cluster 2.\n",
    "\n",
    "$H_a$: There is a difference in spending score between cluster 0 and cluster 2."
   ]
  },
  {
   "cell_type": "code",
   "execution_count": 16,
   "id": "b9530841",
   "metadata": {},
   "outputs": [
    {
     "data": {
      "text/plain": [
       "(0.24021994173724392, 0.8106281241255671)"
      ]
     },
     "execution_count": 16,
     "metadata": {},
     "output_type": "execute_result"
    }
   ],
   "source": [
    "#Run the t-test\n",
    "t_value, p_value2 = stats.ttest_ind(train_scaled[train_scaled['cluster'] == 0].spending_score,\n",
    "                                    train_scaled[train_scaled['cluster'] == 2].spending_score)\n",
    "\n",
    "t_value, p_value2"
   ]
  },
  {
   "cell_type": "code",
   "execution_count": 17,
   "id": "97aead36",
   "metadata": {},
   "outputs": [
    {
     "name": "stdout",
     "output_type": "stream",
     "text": [
      "We fail to reject the null hypothesis.\n"
     ]
    }
   ],
   "source": [
    "#Test my hypothesis\n",
    "alpha = 0.05\n",
    "\n",
    "if p_value2 < alpha:\n",
    "    print('We reject the null hypothesis.')\n",
    "else:\n",
    "    print('We fail to reject the null hypothesis.')"
   ]
  },
  {
   "cell_type": "markdown",
   "id": "442101ca",
   "metadata": {},
   "source": [
    "Spending score appears to be the same for these two groups (cluster 0 and cluster 2). "
   ]
  },
  {
   "cell_type": "markdown",
   "id": "91d9042d",
   "metadata": {},
   "source": [
    "$H_0$: There is no difference in age between cluster 0 and cluster 2.\n",
    "\n",
    "$H_a$: There is a difference in age between cluster 0 and cluster 2."
   ]
  },
  {
   "cell_type": "code",
   "execution_count": 18,
   "id": "55ae9a0e",
   "metadata": {},
   "outputs": [
    {
     "data": {
      "text/plain": [
       "(18.738317795257696, 2.860710779092233e-35)"
      ]
     },
     "execution_count": 18,
     "metadata": {},
     "output_type": "execute_result"
    }
   ],
   "source": [
    "#Run the t-test\n",
    "t_value, p_value2 = stats.ttest_ind(train_scaled[train_scaled['cluster'] == 0].age,\n",
    "                                    train_scaled[train_scaled['cluster'] == 2].age)\n",
    "\n",
    "t_value, p_value2"
   ]
  },
  {
   "cell_type": "code",
   "execution_count": 19,
   "id": "529f755c",
   "metadata": {},
   "outputs": [
    {
     "name": "stdout",
     "output_type": "stream",
     "text": [
      "We reject the null hypothesis.\n"
     ]
    }
   ],
   "source": [
    "#Test my hypothesis\n",
    "alpha = 0.05\n",
    "\n",
    "if p_value2 < alpha:\n",
    "    print('We reject the null hypothesis.')\n",
    "else:\n",
    "    print('We fail to reject the null hypothesis.')"
   ]
  },
  {
   "cell_type": "markdown",
   "id": "10de9551",
   "metadata": {},
   "source": [
    "Their spending scores might be the same, but their ages are different. \n",
    "\n",
    "We can use this knowledge to help us in the next step."
   ]
  },
  {
   "cell_type": "markdown",
   "id": "3e37b70d",
   "metadata": {},
   "source": [
    "### Step 2: Name the clusters with descriptive language"
   ]
  },
  {
   "cell_type": "code",
   "execution_count": 20,
   "id": "bc86f422",
   "metadata": {},
   "outputs": [
    {
     "data": {
      "text/html": [
       "<div>\n",
       "<style scoped>\n",
       "    .dataframe tbody tr th:only-of-type {\n",
       "        vertical-align: middle;\n",
       "    }\n",
       "\n",
       "    .dataframe tbody tr th {\n",
       "        vertical-align: top;\n",
       "    }\n",
       "\n",
       "    .dataframe thead th {\n",
       "        text-align: right;\n",
       "    }\n",
       "</style>\n",
       "<table border=\"1\" class=\"dataframe\">\n",
       "  <thead>\n",
       "    <tr style=\"text-align: right;\">\n",
       "      <th></th>\n",
       "      <th>age</th>\n",
       "      <th>annual_income</th>\n",
       "      <th>spending_score</th>\n",
       "      <th>cluster</th>\n",
       "    </tr>\n",
       "    <tr>\n",
       "      <th>customer_id</th>\n",
       "      <th></th>\n",
       "      <th></th>\n",
       "      <th></th>\n",
       "      <th></th>\n",
       "    </tr>\n",
       "  </thead>\n",
       "  <tbody>\n",
       "    <tr>\n",
       "      <th>1</th>\n",
       "      <td>0.019231</td>\n",
       "      <td>0.000000</td>\n",
       "      <td>0.387755</td>\n",
       "      <td>general-younger</td>\n",
       "    </tr>\n",
       "    <tr>\n",
       "      <th>2</th>\n",
       "      <td>0.057692</td>\n",
       "      <td>0.000000</td>\n",
       "      <td>0.816327</td>\n",
       "      <td>spendthrift-young</td>\n",
       "    </tr>\n",
       "    <tr>\n",
       "      <th>3</th>\n",
       "      <td>0.038462</td>\n",
       "      <td>0.008197</td>\n",
       "      <td>0.051020</td>\n",
       "      <td>general-younger</td>\n",
       "    </tr>\n",
       "    <tr>\n",
       "      <th>4</th>\n",
       "      <td>0.096154</td>\n",
       "      <td>0.008197</td>\n",
       "      <td>0.775510</td>\n",
       "      <td>spendthrift-young</td>\n",
       "    </tr>\n",
       "    <tr>\n",
       "      <th>5</th>\n",
       "      <td>0.250000</td>\n",
       "      <td>0.016393</td>\n",
       "      <td>0.397959</td>\n",
       "      <td>general-younger</td>\n",
       "    </tr>\n",
       "  </tbody>\n",
       "</table>\n",
       "</div>"
      ],
      "text/plain": [
       "                  age  annual_income  spending_score            cluster\n",
       "customer_id                                                            \n",
       "1            0.019231       0.000000        0.387755    general-younger\n",
       "2            0.057692       0.000000        0.816327  spendthrift-young\n",
       "3            0.038462       0.008197        0.051020    general-younger\n",
       "4            0.096154       0.008197        0.775510  spendthrift-young\n",
       "5            0.250000       0.016393        0.397959    general-younger"
      ]
     },
     "execution_count": 20,
     "metadata": {},
     "output_type": "execute_result"
    }
   ],
   "source": [
    "train_scaled.cluster = train_scaled.cluster.map({\n",
    "    0: \"general-older\",\n",
    "    1: \"target\",\n",
    "    2: \"general-younger\",\n",
    "    3: \"frugal-high-income\",\n",
    "    4: \"spendthrift-young\",\n",
    "})\n",
    "\n",
    "train_scaled.head()"
   ]
  },
  {
   "cell_type": "code",
   "execution_count": 21,
   "id": "28994a37",
   "metadata": {},
   "outputs": [
    {
     "data": {
      "text/plain": [
       "<seaborn.axisgrid.FacetGrid at 0x7fe4b9b03190>"
      ]
     },
     "execution_count": 21,
     "metadata": {},
     "output_type": "execute_result"
    },
    {
     "data": {
      "image/png": "[encoded data removed]",
      "text/plain": [
       "<Figure size 772x1080 with 5 Axes>"
      ]
     },
     "metadata": {
      "needs_background": "light"
     },
     "output_type": "display_data"
    }
   ],
   "source": [
    "sns.relplot(data=train_scaled, x=\"annual_income\", y=\"spending_score\", col=\"cluster\", hue=\"age\", col_wrap=2)"
   ]
  },
  {
   "cell_type": "markdown",
   "id": "a9cc6828",
   "metadata": {},
   "source": [
    "## Option 1: Use the clusters to simplify multiple other variables (dimensionality reduction)"
   ]
  },
  {
   "cell_type": "markdown",
   "id": "46f31317",
   "metadata": {},
   "source": [
    "- Since the cluster names make sense, we can use them instead of age, spending, and income.\n",
    "- This might be useful to reduce features (called dimensionality reduction)\n",
    "- Dimensionality reduction might likely help other model performance (regressions, classifications)\n",
    "- Simplifying our analysis to a handful of English terms can help with our storytelling.\n",
    "- Business and stakeholders, generally, crave simple answers. Clustering can help you with that."
   ]
  },
  {
   "cell_type": "code",
   "execution_count": 22,
   "id": "d8b47af3",
   "metadata": {},
   "outputs": [
    {
     "data": {
      "text/html": [
       "<div>\n",
       "<style scoped>\n",
       "    .dataframe tbody tr th:only-of-type {\n",
       "        vertical-align: middle;\n",
       "    }\n",
       "\n",
       "    .dataframe tbody tr th {\n",
       "        vertical-align: top;\n",
       "    }\n",
       "\n",
       "    .dataframe thead th {\n",
       "        text-align: right;\n",
       "    }\n",
       "</style>\n",
       "<table border=\"1\" class=\"dataframe\">\n",
       "  <thead>\n",
       "    <tr style=\"text-align: right;\">\n",
       "      <th></th>\n",
       "      <th>cluster</th>\n",
       "    </tr>\n",
       "    <tr>\n",
       "      <th>customer_id</th>\n",
       "      <th></th>\n",
       "    </tr>\n",
       "  </thead>\n",
       "  <tbody>\n",
       "    <tr>\n",
       "      <th>1</th>\n",
       "      <td>general-younger</td>\n",
       "    </tr>\n",
       "    <tr>\n",
       "      <th>2</th>\n",
       "      <td>spendthrift-young</td>\n",
       "    </tr>\n",
       "    <tr>\n",
       "      <th>3</th>\n",
       "      <td>general-younger</td>\n",
       "    </tr>\n",
       "    <tr>\n",
       "      <th>4</th>\n",
       "      <td>spendthrift-young</td>\n",
       "    </tr>\n",
       "    <tr>\n",
       "      <th>5</th>\n",
       "      <td>general-younger</td>\n",
       "    </tr>\n",
       "  </tbody>\n",
       "</table>\n",
       "</div>"
      ],
      "text/plain": [
       "                       cluster\n",
       "customer_id                   \n",
       "1              general-younger\n",
       "2            spendthrift-young\n",
       "3              general-younger\n",
       "4            spendthrift-young\n",
       "5              general-younger"
      ]
     },
     "execution_count": 22,
     "metadata": {},
     "output_type": "execute_result"
    }
   ],
   "source": [
    "train_scaled.drop(columns=[\"age\", \"annual_income\", \"spending_score\"]).head()"
   ]
  },
  {
   "cell_type": "code",
   "execution_count": 23,
   "id": "aba80fcf",
   "metadata": {},
   "outputs": [
    {
     "data": {
      "text/html": [
       "<div>\n",
       "<style scoped>\n",
       "    .dataframe tbody tr th:only-of-type {\n",
       "        vertical-align: middle;\n",
       "    }\n",
       "\n",
       "    .dataframe tbody tr th {\n",
       "        vertical-align: top;\n",
       "    }\n",
       "\n",
       "    .dataframe thead th {\n",
       "        text-align: right;\n",
       "    }\n",
       "</style>\n",
       "<table border=\"1\" class=\"dataframe\">\n",
       "  <thead>\n",
       "    <tr style=\"text-align: right;\">\n",
       "      <th></th>\n",
       "      <th>age</th>\n",
       "      <th>annual_income</th>\n",
       "      <th>spending_score</th>\n",
       "      <th>cluster_frugal-high-income</th>\n",
       "      <th>cluster_general-older</th>\n",
       "      <th>cluster_general-younger</th>\n",
       "      <th>cluster_spendthrift-young</th>\n",
       "      <th>cluster_target</th>\n",
       "    </tr>\n",
       "    <tr>\n",
       "      <th>customer_id</th>\n",
       "      <th></th>\n",
       "      <th></th>\n",
       "      <th></th>\n",
       "      <th></th>\n",
       "      <th></th>\n",
       "      <th></th>\n",
       "      <th></th>\n",
       "      <th></th>\n",
       "    </tr>\n",
       "  </thead>\n",
       "  <tbody>\n",
       "    <tr>\n",
       "      <th>1</th>\n",
       "      <td>0.019231</td>\n",
       "      <td>0.000000</td>\n",
       "      <td>0.387755</td>\n",
       "      <td>0</td>\n",
       "      <td>0</td>\n",
       "      <td>1</td>\n",
       "      <td>0</td>\n",
       "      <td>0</td>\n",
       "    </tr>\n",
       "    <tr>\n",
       "      <th>2</th>\n",
       "      <td>0.057692</td>\n",
       "      <td>0.000000</td>\n",
       "      <td>0.816327</td>\n",
       "      <td>0</td>\n",
       "      <td>0</td>\n",
       "      <td>0</td>\n",
       "      <td>1</td>\n",
       "      <td>0</td>\n",
       "    </tr>\n",
       "    <tr>\n",
       "      <th>3</th>\n",
       "      <td>0.038462</td>\n",
       "      <td>0.008197</td>\n",
       "      <td>0.051020</td>\n",
       "      <td>0</td>\n",
       "      <td>0</td>\n",
       "      <td>1</td>\n",
       "      <td>0</td>\n",
       "      <td>0</td>\n",
       "    </tr>\n",
       "    <tr>\n",
       "      <th>4</th>\n",
       "      <td>0.096154</td>\n",
       "      <td>0.008197</td>\n",
       "      <td>0.775510</td>\n",
       "      <td>0</td>\n",
       "      <td>0</td>\n",
       "      <td>0</td>\n",
       "      <td>1</td>\n",
       "      <td>0</td>\n",
       "    </tr>\n",
       "    <tr>\n",
       "      <th>5</th>\n",
       "      <td>0.250000</td>\n",
       "      <td>0.016393</td>\n",
       "      <td>0.397959</td>\n",
       "      <td>0</td>\n",
       "      <td>0</td>\n",
       "      <td>1</td>\n",
       "      <td>0</td>\n",
       "      <td>0</td>\n",
       "    </tr>\n",
       "    <tr>\n",
       "      <th>...</th>\n",
       "      <td>...</td>\n",
       "      <td>...</td>\n",
       "      <td>...</td>\n",
       "      <td>...</td>\n",
       "      <td>...</td>\n",
       "      <td>...</td>\n",
       "      <td>...</td>\n",
       "      <td>...</td>\n",
       "    </tr>\n",
       "    <tr>\n",
       "      <th>196</th>\n",
       "      <td>0.326923</td>\n",
       "      <td>0.860656</td>\n",
       "      <td>0.795918</td>\n",
       "      <td>0</td>\n",
       "      <td>0</td>\n",
       "      <td>0</td>\n",
       "      <td>0</td>\n",
       "      <td>1</td>\n",
       "    </tr>\n",
       "    <tr>\n",
       "      <th>197</th>\n",
       "      <td>0.519231</td>\n",
       "      <td>0.909836</td>\n",
       "      <td>0.275510</td>\n",
       "      <td>1</td>\n",
       "      <td>0</td>\n",
       "      <td>0</td>\n",
       "      <td>0</td>\n",
       "      <td>0</td>\n",
       "    </tr>\n",
       "    <tr>\n",
       "      <th>198</th>\n",
       "      <td>0.269231</td>\n",
       "      <td>0.909836</td>\n",
       "      <td>0.744898</td>\n",
       "      <td>0</td>\n",
       "      <td>0</td>\n",
       "      <td>0</td>\n",
       "      <td>0</td>\n",
       "      <td>1</td>\n",
       "    </tr>\n",
       "    <tr>\n",
       "      <th>199</th>\n",
       "      <td>0.269231</td>\n",
       "      <td>1.000000</td>\n",
       "      <td>0.173469</td>\n",
       "      <td>1</td>\n",
       "      <td>0</td>\n",
       "      <td>0</td>\n",
       "      <td>0</td>\n",
       "      <td>0</td>\n",
       "    </tr>\n",
       "    <tr>\n",
       "      <th>200</th>\n",
       "      <td>0.230769</td>\n",
       "      <td>1.000000</td>\n",
       "      <td>0.836735</td>\n",
       "      <td>0</td>\n",
       "      <td>0</td>\n",
       "      <td>0</td>\n",
       "      <td>0</td>\n",
       "      <td>1</td>\n",
       "    </tr>\n",
       "  </tbody>\n",
       "</table>\n",
       "<p>200 rows × 8 columns</p>\n",
       "</div>"
      ],
      "text/plain": [
       "                  age  annual_income  spending_score  \\\n",
       "customer_id                                            \n",
       "1            0.019231       0.000000        0.387755   \n",
       "2            0.057692       0.000000        0.816327   \n",
       "3            0.038462       0.008197        0.051020   \n",
       "4            0.096154       0.008197        0.775510   \n",
       "5            0.250000       0.016393        0.397959   \n",
       "...               ...            ...             ...   \n",
       "196          0.326923       0.860656        0.795918   \n",
       "197          0.519231       0.909836        0.275510   \n",
       "198          0.269231       0.909836        0.744898   \n",
       "199          0.269231       1.000000        0.173469   \n",
       "200          0.230769       1.000000        0.836735   \n",
       "\n",
       "             cluster_frugal-high-income  cluster_general-older  \\\n",
       "customer_id                                                      \n",
       "1                                     0                      0   \n",
       "2                                     0                      0   \n",
       "3                                     0                      0   \n",
       "4                                     0                      0   \n",
       "5                                     0                      0   \n",
       "...                                 ...                    ...   \n",
       "196                                   0                      0   \n",
       "197                                   1                      0   \n",
       "198                                   0                      0   \n",
       "199                                   1                      0   \n",
       "200                                   0                      0   \n",
       "\n",
       "             cluster_general-younger  cluster_spendthrift-young  \\\n",
       "customer_id                                                       \n",
       "1                                  1                          0   \n",
       "2                                  0                          1   \n",
       "3                                  1                          0   \n",
       "4                                  0                          1   \n",
       "5                                  1                          0   \n",
       "...                              ...                        ...   \n",
       "196                                0                          0   \n",
       "197                                0                          0   \n",
       "198                                0                          0   \n",
       "199                                0                          0   \n",
       "200                                0                          0   \n",
       "\n",
       "             cluster_target  \n",
       "customer_id                  \n",
       "1                         0  \n",
       "2                         0  \n",
       "3                         0  \n",
       "4                         0  \n",
       "5                         0  \n",
       "...                     ...  \n",
       "196                       1  \n",
       "197                       0  \n",
       "198                       1  \n",
       "199                       0  \n",
       "200                       1  \n",
       "\n",
       "[200 rows x 8 columns]"
      ]
     },
     "execution_count": 23,
     "metadata": {},
     "output_type": "execute_result"
    }
   ],
   "source": [
    "pd.get_dummies(train_scaled)"
   ]
  },
  {
   "cell_type": "markdown",
   "id": "4426ec76",
   "metadata": {},
   "source": [
    "### Option 2: Use cluster names as a target variable to classify new data\n",
    "\n",
    "Imagine that this dataset had other variables that our company could routinely collect by passive observation (think cookie tracking on websites):\n",
    "\n",
    "- `transportation`\n",
    "- `accompanying_individuals`\n",
    "- `hair_color`\n",
    "- `wedding_band`\n",
    "\n",
    "And data that we had to run a special survey to collect (the data that we clustered on):\n",
    "- `age`\n",
    "- `annual_income`\n",
    "- `spending_score`\n",
    "\n",
    "We added a new column, and we can treat that as a target variable now:\n",
    "- `cluster`\n",
    "\n",
    "We could built a **decision tree** model using the features that are easy to collect (`transportation`, `accompanying_individuals`, `hair_color`, `wedding_band`) to predict `cluster`. This could help us identify our target customers as they enter our mall without asking them the survey questions."
   ]
  },
  {
   "cell_type": "markdown",
   "id": "feaa3d91",
   "metadata": {},
   "source": [
    "### Option 3: Perform deeper EDA\n",
    "\n",
    "Sometimes the identification of clusters gives us additional questions we need to ask. Simpson's paradox, anyone?\n",
    "\n",
    "### Option 4: Create a Many Models Approach\n",
    "- Cluster 0 may have an upward linear trend between income and spending, best modeled by OLS linear regression\n",
    "- Cluster 1 may have an up then down polynomial trend between income and spending, best modeled by polynomial linear regression\n",
    "- Cluster 2 may be more random, best modeled by a regression tree\n",
    "\n",
    "In this way, we can create a machine learning pipeline that sends customers to different prediction models based on their cluster membership.\n",
    "\n",
    "**Remember:**\n",
    "- We can dive into each cluster individually w/ exploration\n",
    "- stats + hypothesis testing\n",
    "- visualizations for each cluster, comparing/contrasting\n"
   ]
  },
  {
   "cell_type": "code",
   "execution_count": null,
   "id": "3977e920",
   "metadata": {},
   "outputs": [],
   "source": []
  }
 ],
 "metadata": {
  "kernelspec": {
   "display_name": "Python 3",
   "language": "python",
   "name": "python3"
  },
  "language_info": {
   "codemirror_mode": {
    "name": "ipython",
    "version": 3
   },
   "file_extension": ".py",
   "mimetype": "text/x-python",
   "name": "python",
   "nbconvert_exporter": "python",
   "pygments_lexer": "ipython3",
   "version": "3.8.8"
  }
 },
 "nbformat": 4,
 "nbformat_minor": 5
}
